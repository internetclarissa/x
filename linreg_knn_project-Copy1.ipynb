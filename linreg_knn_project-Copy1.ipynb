{
 "cells": [
  {
   "cell_type": "markdown",
   "metadata": {},
   "source": [
    "<img src=\"http://imgur.com/1ZcRyrc.png\" style=\"float: left; margin: 20px; height: 55px\">\n",
    "\n",
    "# Project 3: Linear Regression and KNN - Train/Test Split\n",
    "\n",
    "---"
   ]
  },
  {
   "cell_type": "markdown",
   "metadata": {},
   "source": [
    "# Introduction\n",
    "\n",
    "To evaluate how our models would perform on new data, we split our data into a training set and a test set, train only on the training set, and evaluate on the test set. In $k$-fold cross validation we repeat this process $k$ times, using a different subset of our data as the test set each time.\n",
    "\n",
    "We use this process to compare multiple models on the same data set. Those models could be variations on a single type (e.g. linear regression models with and without a particular feature), or they could be of completely different types."
   ]
  },
  {
   "cell_type": "markdown",
   "metadata": {},
   "source": [
    "Recall that k-fold cross-validation creates a hold portion of your data set for each iteration of training and validating:\n",
    "\n",
    "![](http://i.imgur.com/0PFrPXJ.png)"
   ]
  },
  {
   "cell_type": "markdown",
   "metadata": {},
   "source": [
    "## Linear Regression Practice\n",
    "\n",
    "In this given task, you will be asked to model the median home price of various houses across U.S. Census tracts in the city of Boston."
   ]
  },
  {
   "cell_type": "code",
   "execution_count": 165,
   "metadata": {},
   "outputs": [],
   "source": [
    "import matplotlib.pyplot as plt\n",
    "\n",
    "% matplotlib inline"
   ]
  },
  {
   "cell_type": "code",
   "execution_count": 166,
   "metadata": {},
   "outputs": [
    {
     "name": "stdout",
     "output_type": "stream",
     "text": [
      "Boston House Prices dataset\n",
      "===========================\n",
      "\n",
      "Notes\n",
      "------\n",
      "Data Set Characteristics:  \n",
      "\n",
      "    :Number of Instances: 506 \n",
      "\n",
      "    :Number of Attributes: 13 numeric/categorical predictive\n",
      "    \n",
      "    :Median Value (attribute 14) is usually the target\n",
      "\n",
      "    :Attribute Information (in order):\n",
      "        - CRIM     per capita crime rate by town\n",
      "        - ZN       proportion of residential land zoned for lots over 25,000 sq.ft.\n",
      "        - INDUS    proportion of non-retail business acres per town\n",
      "        - CHAS     Charles River dummy variable (= 1 if tract bounds river; 0 otherwise)\n",
      "        - NOX      nitric oxides concentration (parts per 10 million)\n",
      "        - RM       average number of rooms per dwelling\n",
      "        - AGE      proportion of owner-occupied units built prior to 1940\n",
      "        - DIS      weighted distances to five Boston employment centres\n",
      "        - RAD      index of accessibility to radial highways\n",
      "        - TAX      full-value property-tax rate per $10,000\n",
      "        - PTRATIO  pupil-teacher ratio by town\n",
      "        - B        1000(Bk - 0.63)^2 where Bk is the proportion of blacks by town\n",
      "        - LSTAT    % lower status of the population\n",
      "        - MEDV     Median value of owner-occupied homes in $1000's\n",
      "\n",
      "    :Missing Attribute Values: None\n",
      "\n",
      "    :Creator: Harrison, D. and Rubinfeld, D.L.\n",
      "\n",
      "This is a copy of UCI ML housing dataset.\n",
      "http://archive.ics.uci.edu/ml/datasets/Housing\n",
      "\n",
      "\n",
      "This dataset was taken from the StatLib library which is maintained at Carnegie Mellon University.\n",
      "\n",
      "The Boston house-price data of Harrison, D. and Rubinfeld, D.L. 'Hedonic\n",
      "prices and the demand for clean air', J. Environ. Economics & Management,\n",
      "vol.5, 81-102, 1978.   Used in Belsley, Kuh & Welsch, 'Regression diagnostics\n",
      "...', Wiley, 1980.   N.B. Various transformations are used in the table on\n",
      "pages 244-261 of the latter.\n",
      "\n",
      "The Boston house-price data has been used in many machine learning papers that address regression\n",
      "problems.   \n",
      "     \n",
      "**References**\n",
      "\n",
      "   - Belsley, Kuh & Welsch, 'Regression diagnostics: Identifying Influential Data and Sources of Collinearity', Wiley, 1980. 244-261.\n",
      "   - Quinlan,R. (1993). Combining Instance-Based and Model-Based Learning. In Proceedings on the Tenth International Conference of Machine Learning, 236-243, University of Massachusetts, Amherst. Morgan Kaufmann.\n",
      "   - many more! (see http://archive.ics.uci.edu/ml/datasets/Housing)\n",
      "\n"
     ]
    }
   ],
   "source": [
    "import pandas as pd\n",
    "import numpy as np\n",
    "from sklearn.datasets import load_boston\n",
    "\n",
    "boston = load_boston()\n",
    "\n",
    "X = pd.DataFrame(boston.data,\n",
    "                 columns=boston.feature_names)\n",
    "y = pd.DataFrame(boston.target,\n",
    "                 columns=['MEDV'])\n",
    "\n",
    "print(boston['DESCR'])"
   ]
  },
  {
   "cell_type": "markdown",
   "metadata": {},
   "source": [
    "- Clean Up Data and Perform Exporatory Data Analysis"
   ]
  },
  {
   "cell_type": "markdown",
   "metadata": {},
   "source": [
    "Boston data is from scikit-learn, so it ought to be pretty clean, but we should always perform exploratory data analysis."
   ]
  },
  {
   "cell_type": "markdown",
   "metadata": {},
   "source": [
    "**Items to include:**\n",
    "\n",
    "- Data shape\n",
    "- Data types\n",
    "- Count of null values by column\n",
    "- Basic summary statistics\n",
    "- Number of unique values for each column\n",
    "- Plot of the distribution of each column (e.g. histogram, bar plot, or box plot)\n",
    "- Scatterplot of each column with median price"
   ]
  },
  {
   "cell_type": "code",
   "execution_count": 167,
   "metadata": {
    "scrolled": true
   },
   "outputs": [
    {
     "data": {
      "text/html": [
       "<div>\n",
       "<style scoped>\n",
       "    .dataframe tbody tr th:only-of-type {\n",
       "        vertical-align: middle;\n",
       "    }\n",
       "\n",
       "    .dataframe tbody tr th {\n",
       "        vertical-align: top;\n",
       "    }\n",
       "\n",
       "    .dataframe thead th {\n",
       "        text-align: right;\n",
       "    }\n",
       "</style>\n",
       "<table border=\"1\" class=\"dataframe\">\n",
       "  <thead>\n",
       "    <tr style=\"text-align: right;\">\n",
       "      <th></th>\n",
       "      <th>MEDV</th>\n",
       "      <th>CRIM</th>\n",
       "      <th>ZN</th>\n",
       "      <th>INDUS</th>\n",
       "      <th>CHAS</th>\n",
       "      <th>NOX</th>\n",
       "      <th>RM</th>\n",
       "      <th>AGE</th>\n",
       "      <th>DIS</th>\n",
       "      <th>RAD</th>\n",
       "      <th>TAX</th>\n",
       "      <th>PTRATIO</th>\n",
       "      <th>B</th>\n",
       "      <th>LSTAT</th>\n",
       "    </tr>\n",
       "  </thead>\n",
       "  <tbody>\n",
       "    <tr>\n",
       "      <th>0</th>\n",
       "      <td>24.0</td>\n",
       "      <td>0.00632</td>\n",
       "      <td>18.0</td>\n",
       "      <td>2.31</td>\n",
       "      <td>0.0</td>\n",
       "      <td>0.538</td>\n",
       "      <td>6.575</td>\n",
       "      <td>65.2</td>\n",
       "      <td>4.0900</td>\n",
       "      <td>1.0</td>\n",
       "      <td>296.0</td>\n",
       "      <td>15.3</td>\n",
       "      <td>396.90</td>\n",
       "      <td>4.98</td>\n",
       "    </tr>\n",
       "    <tr>\n",
       "      <th>1</th>\n",
       "      <td>21.6</td>\n",
       "      <td>0.02731</td>\n",
       "      <td>0.0</td>\n",
       "      <td>7.07</td>\n",
       "      <td>0.0</td>\n",
       "      <td>0.469</td>\n",
       "      <td>6.421</td>\n",
       "      <td>78.9</td>\n",
       "      <td>4.9671</td>\n",
       "      <td>2.0</td>\n",
       "      <td>242.0</td>\n",
       "      <td>17.8</td>\n",
       "      <td>396.90</td>\n",
       "      <td>9.14</td>\n",
       "    </tr>\n",
       "    <tr>\n",
       "      <th>2</th>\n",
       "      <td>34.7</td>\n",
       "      <td>0.02729</td>\n",
       "      <td>0.0</td>\n",
       "      <td>7.07</td>\n",
       "      <td>0.0</td>\n",
       "      <td>0.469</td>\n",
       "      <td>7.185</td>\n",
       "      <td>61.1</td>\n",
       "      <td>4.9671</td>\n",
       "      <td>2.0</td>\n",
       "      <td>242.0</td>\n",
       "      <td>17.8</td>\n",
       "      <td>392.83</td>\n",
       "      <td>4.03</td>\n",
       "    </tr>\n",
       "    <tr>\n",
       "      <th>3</th>\n",
       "      <td>33.4</td>\n",
       "      <td>0.03237</td>\n",
       "      <td>0.0</td>\n",
       "      <td>2.18</td>\n",
       "      <td>0.0</td>\n",
       "      <td>0.458</td>\n",
       "      <td>6.998</td>\n",
       "      <td>45.8</td>\n",
       "      <td>6.0622</td>\n",
       "      <td>3.0</td>\n",
       "      <td>222.0</td>\n",
       "      <td>18.7</td>\n",
       "      <td>394.63</td>\n",
       "      <td>2.94</td>\n",
       "    </tr>\n",
       "    <tr>\n",
       "      <th>4</th>\n",
       "      <td>36.2</td>\n",
       "      <td>0.06905</td>\n",
       "      <td>0.0</td>\n",
       "      <td>2.18</td>\n",
       "      <td>0.0</td>\n",
       "      <td>0.458</td>\n",
       "      <td>7.147</td>\n",
       "      <td>54.2</td>\n",
       "      <td>6.0622</td>\n",
       "      <td>3.0</td>\n",
       "      <td>222.0</td>\n",
       "      <td>18.7</td>\n",
       "      <td>396.90</td>\n",
       "      <td>5.33</td>\n",
       "    </tr>\n",
       "  </tbody>\n",
       "</table>\n",
       "</div>"
      ],
      "text/plain": [
       "   MEDV     CRIM    ZN  INDUS  CHAS    NOX     RM   AGE     DIS  RAD    TAX  \\\n",
       "0  24.0  0.00632  18.0   2.31   0.0  0.538  6.575  65.2  4.0900  1.0  296.0   \n",
       "1  21.6  0.02731   0.0   7.07   0.0  0.469  6.421  78.9  4.9671  2.0  242.0   \n",
       "2  34.7  0.02729   0.0   7.07   0.0  0.469  7.185  61.1  4.9671  2.0  242.0   \n",
       "3  33.4  0.03237   0.0   2.18   0.0  0.458  6.998  45.8  6.0622  3.0  222.0   \n",
       "4  36.2  0.06905   0.0   2.18   0.0  0.458  7.147  54.2  6.0622  3.0  222.0   \n",
       "\n",
       "   PTRATIO       B  LSTAT  \n",
       "0     15.3  396.90   4.98  \n",
       "1     17.8  396.90   9.14  \n",
       "2     17.8  392.83   4.03  \n",
       "3     18.7  394.63   2.94  \n",
       "4     18.7  396.90   5.33  "
      ]
     },
     "execution_count": 167,
     "metadata": {},
     "output_type": "execute_result"
    }
   ],
   "source": [
    "boston_df = pd.concat([y, X], axis=1)\n",
    "boston_df.head()"
   ]
  },
  {
   "cell_type": "code",
   "execution_count": 168,
   "metadata": {},
   "outputs": [
    {
     "data": {
      "text/plain": [
       "(506, 14)"
      ]
     },
     "execution_count": 168,
     "metadata": {},
     "output_type": "execute_result"
    }
   ],
   "source": [
    "#Data Shape\n",
    "boston_df.shape"
   ]
  },
  {
   "cell_type": "code",
   "execution_count": 169,
   "metadata": {},
   "outputs": [
    {
     "data": {
      "text/plain": [
       "MEDV       float64\n",
       "CRIM       float64\n",
       "ZN         float64\n",
       "INDUS      float64\n",
       "CHAS       float64\n",
       "NOX        float64\n",
       "RM         float64\n",
       "AGE        float64\n",
       "DIS        float64\n",
       "RAD        float64\n",
       "TAX        float64\n",
       "PTRATIO    float64\n",
       "B          float64\n",
       "LSTAT      float64\n",
       "dtype: object"
      ]
     },
     "execution_count": 169,
     "metadata": {},
     "output_type": "execute_result"
    }
   ],
   "source": [
    "#Data Types\n",
    "boston_df.dtypes"
   ]
  },
  {
   "cell_type": "code",
   "execution_count": 170,
   "metadata": {},
   "outputs": [
    {
     "data": {
      "text/plain": [
       "MEDV       0\n",
       "CRIM       0\n",
       "ZN         0\n",
       "INDUS      0\n",
       "CHAS       0\n",
       "NOX        0\n",
       "RM         0\n",
       "AGE        0\n",
       "DIS        0\n",
       "RAD        0\n",
       "TAX        0\n",
       "PTRATIO    0\n",
       "B          0\n",
       "LSTAT      0\n",
       "dtype: int64"
      ]
     },
     "execution_count": 170,
     "metadata": {},
     "output_type": "execute_result"
    }
   ],
   "source": [
    "#Null Values by Column\n",
    "boston_df.isnull().sum()"
   ]
  },
  {
   "cell_type": "code",
   "execution_count": 171,
   "metadata": {},
   "outputs": [
    {
     "data": {
      "text/html": [
       "<div>\n",
       "<style scoped>\n",
       "    .dataframe tbody tr th:only-of-type {\n",
       "        vertical-align: middle;\n",
       "    }\n",
       "\n",
       "    .dataframe tbody tr th {\n",
       "        vertical-align: top;\n",
       "    }\n",
       "\n",
       "    .dataframe thead th {\n",
       "        text-align: right;\n",
       "    }\n",
       "</style>\n",
       "<table border=\"1\" class=\"dataframe\">\n",
       "  <thead>\n",
       "    <tr style=\"text-align: right;\">\n",
       "      <th></th>\n",
       "      <th>MEDV</th>\n",
       "      <th>CRIM</th>\n",
       "      <th>ZN</th>\n",
       "      <th>INDUS</th>\n",
       "      <th>CHAS</th>\n",
       "      <th>NOX</th>\n",
       "      <th>RM</th>\n",
       "      <th>AGE</th>\n",
       "      <th>DIS</th>\n",
       "      <th>RAD</th>\n",
       "      <th>TAX</th>\n",
       "      <th>PTRATIO</th>\n",
       "      <th>B</th>\n",
       "      <th>LSTAT</th>\n",
       "    </tr>\n",
       "  </thead>\n",
       "  <tbody>\n",
       "    <tr>\n",
       "      <th>count</th>\n",
       "      <td>506.000000</td>\n",
       "      <td>506.000000</td>\n",
       "      <td>506.000000</td>\n",
       "      <td>506.000000</td>\n",
       "      <td>506.000000</td>\n",
       "      <td>506.000000</td>\n",
       "      <td>506.000000</td>\n",
       "      <td>506.000000</td>\n",
       "      <td>506.000000</td>\n",
       "      <td>506.000000</td>\n",
       "      <td>506.000000</td>\n",
       "      <td>506.000000</td>\n",
       "      <td>506.000000</td>\n",
       "      <td>506.000000</td>\n",
       "    </tr>\n",
       "    <tr>\n",
       "      <th>mean</th>\n",
       "      <td>22.532806</td>\n",
       "      <td>3.593761</td>\n",
       "      <td>11.363636</td>\n",
       "      <td>11.136779</td>\n",
       "      <td>0.069170</td>\n",
       "      <td>0.554695</td>\n",
       "      <td>6.284634</td>\n",
       "      <td>68.574901</td>\n",
       "      <td>3.795043</td>\n",
       "      <td>9.549407</td>\n",
       "      <td>408.237154</td>\n",
       "      <td>18.455534</td>\n",
       "      <td>356.674032</td>\n",
       "      <td>12.653063</td>\n",
       "    </tr>\n",
       "    <tr>\n",
       "      <th>std</th>\n",
       "      <td>9.197104</td>\n",
       "      <td>8.596783</td>\n",
       "      <td>23.322453</td>\n",
       "      <td>6.860353</td>\n",
       "      <td>0.253994</td>\n",
       "      <td>0.115878</td>\n",
       "      <td>0.702617</td>\n",
       "      <td>28.148861</td>\n",
       "      <td>2.105710</td>\n",
       "      <td>8.707259</td>\n",
       "      <td>168.537116</td>\n",
       "      <td>2.164946</td>\n",
       "      <td>91.294864</td>\n",
       "      <td>7.141062</td>\n",
       "    </tr>\n",
       "    <tr>\n",
       "      <th>min</th>\n",
       "      <td>5.000000</td>\n",
       "      <td>0.006320</td>\n",
       "      <td>0.000000</td>\n",
       "      <td>0.460000</td>\n",
       "      <td>0.000000</td>\n",
       "      <td>0.385000</td>\n",
       "      <td>3.561000</td>\n",
       "      <td>2.900000</td>\n",
       "      <td>1.129600</td>\n",
       "      <td>1.000000</td>\n",
       "      <td>187.000000</td>\n",
       "      <td>12.600000</td>\n",
       "      <td>0.320000</td>\n",
       "      <td>1.730000</td>\n",
       "    </tr>\n",
       "    <tr>\n",
       "      <th>25%</th>\n",
       "      <td>17.025000</td>\n",
       "      <td>0.082045</td>\n",
       "      <td>0.000000</td>\n",
       "      <td>5.190000</td>\n",
       "      <td>0.000000</td>\n",
       "      <td>0.449000</td>\n",
       "      <td>5.885500</td>\n",
       "      <td>45.025000</td>\n",
       "      <td>2.100175</td>\n",
       "      <td>4.000000</td>\n",
       "      <td>279.000000</td>\n",
       "      <td>17.400000</td>\n",
       "      <td>375.377500</td>\n",
       "      <td>6.950000</td>\n",
       "    </tr>\n",
       "    <tr>\n",
       "      <th>50%</th>\n",
       "      <td>21.200000</td>\n",
       "      <td>0.256510</td>\n",
       "      <td>0.000000</td>\n",
       "      <td>9.690000</td>\n",
       "      <td>0.000000</td>\n",
       "      <td>0.538000</td>\n",
       "      <td>6.208500</td>\n",
       "      <td>77.500000</td>\n",
       "      <td>3.207450</td>\n",
       "      <td>5.000000</td>\n",
       "      <td>330.000000</td>\n",
       "      <td>19.050000</td>\n",
       "      <td>391.440000</td>\n",
       "      <td>11.360000</td>\n",
       "    </tr>\n",
       "    <tr>\n",
       "      <th>75%</th>\n",
       "      <td>25.000000</td>\n",
       "      <td>3.647423</td>\n",
       "      <td>12.500000</td>\n",
       "      <td>18.100000</td>\n",
       "      <td>0.000000</td>\n",
       "      <td>0.624000</td>\n",
       "      <td>6.623500</td>\n",
       "      <td>94.075000</td>\n",
       "      <td>5.188425</td>\n",
       "      <td>24.000000</td>\n",
       "      <td>666.000000</td>\n",
       "      <td>20.200000</td>\n",
       "      <td>396.225000</td>\n",
       "      <td>16.955000</td>\n",
       "    </tr>\n",
       "    <tr>\n",
       "      <th>max</th>\n",
       "      <td>50.000000</td>\n",
       "      <td>88.976200</td>\n",
       "      <td>100.000000</td>\n",
       "      <td>27.740000</td>\n",
       "      <td>1.000000</td>\n",
       "      <td>0.871000</td>\n",
       "      <td>8.780000</td>\n",
       "      <td>100.000000</td>\n",
       "      <td>12.126500</td>\n",
       "      <td>24.000000</td>\n",
       "      <td>711.000000</td>\n",
       "      <td>22.000000</td>\n",
       "      <td>396.900000</td>\n",
       "      <td>37.970000</td>\n",
       "    </tr>\n",
       "  </tbody>\n",
       "</table>\n",
       "</div>"
      ],
      "text/plain": [
       "             MEDV        CRIM          ZN       INDUS        CHAS         NOX  \\\n",
       "count  506.000000  506.000000  506.000000  506.000000  506.000000  506.000000   \n",
       "mean    22.532806    3.593761   11.363636   11.136779    0.069170    0.554695   \n",
       "std      9.197104    8.596783   23.322453    6.860353    0.253994    0.115878   \n",
       "min      5.000000    0.006320    0.000000    0.460000    0.000000    0.385000   \n",
       "25%     17.025000    0.082045    0.000000    5.190000    0.000000    0.449000   \n",
       "50%     21.200000    0.256510    0.000000    9.690000    0.000000    0.538000   \n",
       "75%     25.000000    3.647423   12.500000   18.100000    0.000000    0.624000   \n",
       "max     50.000000   88.976200  100.000000   27.740000    1.000000    0.871000   \n",
       "\n",
       "               RM         AGE         DIS         RAD         TAX     PTRATIO  \\\n",
       "count  506.000000  506.000000  506.000000  506.000000  506.000000  506.000000   \n",
       "mean     6.284634   68.574901    3.795043    9.549407  408.237154   18.455534   \n",
       "std      0.702617   28.148861    2.105710    8.707259  168.537116    2.164946   \n",
       "min      3.561000    2.900000    1.129600    1.000000  187.000000   12.600000   \n",
       "25%      5.885500   45.025000    2.100175    4.000000  279.000000   17.400000   \n",
       "50%      6.208500   77.500000    3.207450    5.000000  330.000000   19.050000   \n",
       "75%      6.623500   94.075000    5.188425   24.000000  666.000000   20.200000   \n",
       "max      8.780000  100.000000   12.126500   24.000000  711.000000   22.000000   \n",
       "\n",
       "                B       LSTAT  \n",
       "count  506.000000  506.000000  \n",
       "mean   356.674032   12.653063  \n",
       "std     91.294864    7.141062  \n",
       "min      0.320000    1.730000  \n",
       "25%    375.377500    6.950000  \n",
       "50%    391.440000   11.360000  \n",
       "75%    396.225000   16.955000  \n",
       "max    396.900000   37.970000  "
      ]
     },
     "execution_count": 171,
     "metadata": {},
     "output_type": "execute_result"
    }
   ],
   "source": [
    "#Basic summary statistics\n",
    "boston_df.describe()"
   ]
  },
  {
   "cell_type": "code",
   "execution_count": 172,
   "metadata": {},
   "outputs": [
    {
     "data": {
      "text/plain": [
       "MEDV       229\n",
       "CRIM       504\n",
       "ZN          26\n",
       "INDUS       76\n",
       "CHAS         2\n",
       "NOX         81\n",
       "RM         446\n",
       "AGE        356\n",
       "DIS        412\n",
       "RAD          9\n",
       "TAX         66\n",
       "PTRATIO     46\n",
       "B          357\n",
       "LSTAT      455\n",
       "dtype: int64"
      ]
     },
     "execution_count": 172,
     "metadata": {},
     "output_type": "execute_result"
    }
   ],
   "source": [
    "#Number of unique values for columns\n",
    "\n",
    "boston_df.nunique()"
   ]
  },
  {
   "cell_type": "code",
   "execution_count": 173,
   "metadata": {
    "scrolled": true
   },
   "outputs": [
    {
     "data": {
      "image/png": "[encoded data removed]",
      "text/plain": [
       "<Figure size 1440x1440 with 16 Axes>"
      ]
     },
     "metadata": {},
     "output_type": "display_data"
    }
   ],
   "source": [
    "#Plot of the distribution of each column\n",
    "\n",
    "axes = boston_df.hist(figsize=(20, 20), bins=50)\n"
   ]
  },
  {
   "cell_type": "code",
   "execution_count": 174,
   "metadata": {},
   "outputs": [
    {
     "data": {
      "image/png": "[encoded data removed]",
      "text/plain": [
       "<Figure size 216x216 with 1 Axes>"
      ]
     },
     "metadata": {},
     "output_type": "display_data"
    },
    {
     "data": {
      "image/png": "[encoded data removed]",
      "text/plain": [
       "<Figure size 216x216 with 1 Axes>"
      ]
     },
     "metadata": {},
     "output_type": "display_data"
    },
    {
     "data": {
      "image/png": "[encoded data removed]",
      "text/plain": [
       "<Figure size 216x216 with 1 Axes>"
      ]
     },
     "metadata": {},
     "output_type": "display_data"
    },
    {
     "data": {
      "image/png": "[encoded data removed]",
      "text/plain": [
       "<Figure size 216x216 with 1 Axes>"
      ]
     },
     "metadata": {},
     "output_type": "display_data"
    },
    {
     "data": {
      "image/png": "[encoded data removed]",
      "text/plain": [
       "<Figure size 216x216 with 1 Axes>"
      ]
     },
     "metadata": {},
     "output_type": "display_data"
    },
    {
     "data": {
      "image/png": "[encoded data removed]",
      "text/plain": [
       "<Figure size 216x216 with 1 Axes>"
      ]
     },
     "metadata": {},
     "output_type": "display_data"
    },
    {
     "data": {
      "image/png": "[encoded data removed]",
      "text/plain": [
       "<Figure size 216x216 with 1 Axes>"
      ]
     },
     "metadata": {},
     "output_type": "display_data"
    },
    {
     "data": {
      "image/png": "[encoded data removed]",
      "text/plain": [
       "<Figure size 216x216 with 1 Axes>"
      ]
     },
     "metadata": {},
     "output_type": "display_data"
    },
    {
     "data": {
      "image/png": "[encoded data removed]",
      "text/plain": [
       "<Figure size 216x216 with 1 Axes>"
      ]
     },
     "metadata": {},
     "output_type": "display_data"
    },
    {
     "data": {
      "image/png": "[encoded data removed]",
      "text/plain": [
       "<Figure size 216x216 with 1 Axes>"
      ]
     },
     "metadata": {},
     "output_type": "display_data"
    },
    {
     "data": {
      "image/png": "[encoded data removed]",
      "text/plain": [
       "<Figure size 216x216 with 1 Axes>"
      ]
     },
     "metadata": {},
     "output_type": "display_data"
    },
    {
     "data": {
      "image/png": "[encoded data removed]",
      "text/plain": [
       "<Figure size 216x216 with 1 Axes>"
      ]
     },
     "metadata": {},
     "output_type": "display_data"
    }
   ],
   "source": [
    "#Scatterplot of each column with median price\n",
    "ax = boston_df.plot(kind='scatter', x='CRIM', y ='MEDV', figsize=(3,3))\n",
    "ax1 = boston_df.plot(kind='scatter', x='ZN', y='MEDV', figsize=(3,3))\n",
    "ax2 = boston_df.plot(kind='scatter', x='INDUS', y='MEDV', figsize=(3,3))\n",
    "ax3 = boston_df.plot(kind='scatter', x='CHAS', y='MEDV',figsize=(3,3))\n",
    "ax4 = boston_df.plot(kind='scatter', x='RM', y='MEDV',figsize=(3,3))\n",
    "ax5 = boston_df.plot(kind='scatter', x='AGE', y='MEDV',figsize=(3,3))\n",
    "ax6 = boston_df.plot(kind='scatter', x='DIS', y='MEDV',figsize=(3,3))\n",
    "ax7 = boston_df.plot(kind='scatter', x='RAD', y='MEDV',figsize=(3,3))\n",
    "ax8 = boston_df.plot(kind='scatter', x='TAX', y='MEDV',figsize=(3,3))\n",
    "ax9 = boston_df.plot(kind='scatter', x='PTRATIO', y='MEDV',figsize=(3,3))\n",
    "ax10 = boston_df.plot(kind='scatter', x='B', y='MEDV',figsize=(3,3))\n",
    "ax11 = boston_df.plot(kind='scatter', x='LSTAT', y='MEDV',figsize=(3,3))\n",
    "\n"
   ]
  },
  {
   "cell_type": "markdown",
   "metadata": {},
   "source": [
    "- Get the MSE of a null model that simply predicts the mean value of MEDV. (You could do a train/test split here, but it won't make much difference for such a simple model.)"
   ]
  },
  {
   "cell_type": "code",
   "execution_count": 175,
   "metadata": {},
   "outputs": [
    {
     "name": "stdout",
     "output_type": "stream",
     "text": [
      "84.41955615616554\n"
     ]
    }
   ],
   "source": [
    "from sklearn import metrics\n",
    "y_new = boston_df.loc[:, 'MEDV']\n",
    "\n",
    "null_pred = np.zeros(len(y_new)) + np.mean(y_new)\n",
    "null_mse = metrics.mean_squared_error(null_pred, y_new)\n",
    "print(null_mse)"
   ]
  },
  {
   "cell_type": "markdown",
   "metadata": {},
   "source": [
    "- Develop a linear regression model to predict MEDV. Train it on 70% of the data. Gets its MSE on both that 70% and the other 30%."
   ]
  },
  {
   "cell_type": "code",
   "execution_count": 176,
   "metadata": {},
   "outputs": [
    {
     "data": {
      "text/plain": [
       "0.6128679837955325"
      ]
     },
     "execution_count": 176,
     "metadata": {},
     "output_type": "execute_result"
    }
   ],
   "source": [
    "#import train test split and linear regression functiond\n",
    "\n",
    "from sklearn.model_selection import train_test_split\n",
    "from sklearn.linear_model import LinearRegression\n",
    "\n",
    "#view features to predict MDV\n",
    "boston_df.head()\n",
    "\n",
    "#pick variable features to predict MEDV\n",
    "col_features = ['CRIM','AGE','LSTAT','RM']\n",
    "\n",
    "X_train, X_test, y_train, y_test = train_test_split(X[col_features], y, train_size=0.7, test_size=.3, random_state=8)\n",
    "\n",
    "\n",
    "lr2 = LinearRegression()\n",
    "lr2.fit(X_train,y_train)\n",
    "lr2.score(X_test, y_test)\n"
   ]
  },
  {
   "cell_type": "code",
   "execution_count": 177,
   "metadata": {},
   "outputs": [
    {
     "name": "stdout",
     "output_type": "stream",
     "text": [
      "85.73836868396693\n"
     ]
    }
   ],
   "source": [
    "#mse of 70% of data\n",
    "y_new = y_train.loc[:, 'MEDV']\n",
    "\n",
    "null_pred = np.zeros(len(y_new)) + np.mean(y_new)\n",
    "null_mse = metrics.mean_squared_error(null_pred, y_new)\n",
    "print(null_mse)"
   ]
  },
  {
   "cell_type": "code",
   "execution_count": 178,
   "metadata": {},
   "outputs": [
    {
     "name": "stdout",
     "output_type": "stream",
     "text": [
      "81.23417893005539\n"
     ]
    }
   ],
   "source": [
    "#mse of 30% of data\n",
    "y_new = y_test.loc[:, 'MEDV']\n",
    "\n",
    "null_pred = np.zeros(len(y_new)) + np.mean(y_new)\n",
    "null_mse = metrics.mean_squared_error(null_pred, y_new)\n",
    "print(null_mse)"
   ]
  },
  {
   "cell_type": "markdown",
   "metadata": {},
   "source": [
    "- K-fold cross-validation is slower than a simple train/test split, but it gives more reliable estimates of generalization error. Use ten-fold cross-validation to evaluate your model's MSE on both training and test data. Use this result to answer the following questions."
   ]
  },
  {
   "cell_type": "code",
   "execution_count": 179,
   "metadata": {},
   "outputs": [],
   "source": [
    "from sklearn import model_selection\n",
    "\n",
    "kf = model_selection.KFold(n_splits=10, shuffle=True)"
   ]
  },
  {
   "cell_type": "code",
   "execution_count": 180,
   "metadata": {},
   "outputs": [
    {
     "data": {
      "text/plain": [
       "[(array([  0,   1,   2,   3,   4,   5,   6,   8,   9,  10,  11,  12,  14,\n",
       "          15,  16,  17,  18,  20,  21,  22,  23,  24,  25,  26,  27,  28,\n",
       "          30,  31,  32,  33,  34,  35,  36,  37,  38,  39,  40,  41,  42,\n",
       "          43,  44,  45,  46,  47,  48,  49,  50,  51,  52,  54,  55,  56,\n",
       "          57,  58,  59,  60,  61,  62,  63,  64,  65,  66,  67,  68,  69,\n",
       "          70,  71,  72,  74,  75,  77,  78,  79,  80,  81,  83,  84,  86,\n",
       "          87,  88,  89,  90,  91,  92,  93,  94,  95,  96,  97,  98,  99,\n",
       "         100, 101, 102, 103, 104, 105, 107, 108, 109, 111, 112, 113, 114,\n",
       "         115, 117, 118, 119, 120, 121, 122, 123, 124, 125, 127, 128, 129,\n",
       "         130, 131, 132, 134, 135, 136, 137, 138, 139, 140, 141, 142, 143,\n",
       "         144, 145, 146, 147, 148, 150, 151, 152, 153, 154, 155, 156, 157,\n",
       "         158, 159, 160, 161, 162, 164, 166, 168, 169, 170, 171, 172, 173,\n",
       "         174, 175, 177, 178, 180, 181, 182, 183, 184, 185, 186, 187, 189,\n",
       "         190, 191, 192, 193, 194, 195, 196, 197, 198, 199, 200, 201, 202,\n",
       "         203, 204, 205, 206, 207, 208, 209, 210, 211, 212, 213, 214, 215,\n",
       "         216, 217, 218, 219, 220, 221, 222, 223, 224, 226, 227, 228, 229,\n",
       "         230, 231, 232, 233, 234, 235, 236, 237, 238, 239, 241, 242, 243,\n",
       "         244, 245, 246, 247, 248, 250, 251, 252, 253, 254, 255, 256, 257,\n",
       "         258, 260, 261, 262, 263, 264, 265, 266, 267, 268, 269, 270, 271,\n",
       "         272, 273, 274, 276, 277, 279, 280, 281, 282, 283, 284, 285, 286,\n",
       "         287, 288, 289, 290, 291, 292, 294, 296, 297, 298, 299, 300, 301,\n",
       "         302, 303, 304, 305, 306, 307, 308, 309, 310, 311, 312, 314, 316,\n",
       "         317, 318, 319, 320, 321, 322, 323, 324, 325, 326, 327, 328, 329,\n",
       "         330, 331, 332, 333, 335, 336, 337, 338, 339, 340, 341, 342, 343,\n",
       "         344, 345, 346, 348, 350, 351, 352, 353, 354, 355, 356, 357, 358,\n",
       "         359, 360, 361, 362, 363, 364, 365, 366, 367, 368, 369, 370, 371,\n",
       "         372, 373, 374, 375, 376, 377, 378, 379, 380, 381, 382, 383, 384,\n",
       "         385, 387, 389, 390, 391, 393, 394, 395, 397, 399, 400, 401, 402,\n",
       "         403, 404, 405, 406, 407, 408, 409, 410, 411, 412, 415, 416, 417,\n",
       "         418, 420, 421, 422, 423, 424, 425, 426, 427, 428, 429, 430, 431,\n",
       "         432, 433, 434, 436, 437, 438, 439, 440, 441, 442, 443, 444, 445,\n",
       "         446, 447, 448, 449, 450, 451, 452, 453, 455, 456, 457, 458, 459,\n",
       "         461, 462, 463, 464, 465, 466, 467, 468, 469, 470, 471, 472, 473,\n",
       "         474, 475, 476, 477, 478, 479, 480, 482, 483, 484, 485, 486, 487,\n",
       "         488, 489, 490, 491, 492, 494, 495, 497, 499, 500, 503, 504, 505]),\n",
       "  array([  7,  13,  19,  29,  53,  73,  76,  82,  85, 106, 110, 116, 126,\n",
       "         133, 149, 163, 165, 167, 176, 179, 188, 225, 240, 249, 259, 275,\n",
       "         278, 293, 295, 313, 315, 334, 347, 349, 386, 388, 392, 396, 398,\n",
       "         413, 414, 419, 435, 454, 460, 481, 493, 496, 498, 501, 502])),\n",
       " (array([  0,   1,   3,   4,   5,   6,   7,   8,   9,  11,  12,  13,  14,\n",
       "          15,  18,  19,  20,  23,  24,  25,  26,  27,  28,  29,  30,  31,\n",
       "          32,  33,  34,  35,  36,  38,  39,  40,  41,  42,  44,  45,  46,\n",
       "          47,  48,  49,  50,  51,  52,  53,  54,  55,  56,  57,  58,  59,\n",
       "          60,  61,  62,  63,  65,  66,  67,  68,  69,  70,  71,  72,  73,\n",
       "          74,  75,  76,  77,  78,  79,  80,  81,  82,  83,  85,  86,  87,\n",
       "          88,  89,  90,  92,  93,  95,  96,  97,  98,  99, 100, 101, 102,\n",
       "         104, 105, 106, 107, 108, 109, 110, 111, 112, 113, 115, 116, 118,\n",
       "         119, 120, 121, 122, 123, 125, 126, 127, 128, 129, 130, 131, 132,\n",
       "         133, 134, 136, 137, 138, 139, 140, 141, 142, 143, 144, 145, 147,\n",
       "         149, 150, 152, 153, 154, 155, 157, 158, 159, 160, 161, 162, 163,\n",
       "         164, 165, 166, 167, 168, 169, 170, 171, 172, 173, 175, 176, 177,\n",
       "         178, 179, 180, 182, 183, 184, 185, 186, 187, 188, 189, 190, 192,\n",
       "         193, 194, 195, 196, 198, 199, 200, 201, 202, 203, 204, 205, 206,\n",
       "         207, 208, 209, 210, 211, 213, 214, 215, 216, 217, 218, 219, 221,\n",
       "         223, 224, 225, 226, 229, 230, 232, 233, 234, 235, 236, 237, 238,\n",
       "         239, 240, 241, 242, 243, 244, 245, 246, 247, 248, 249, 250, 252,\n",
       "         253, 254, 255, 256, 257, 258, 259, 260, 261, 262, 263, 264, 265,\n",
       "         266, 268, 269, 270, 271, 272, 273, 275, 276, 277, 278, 280, 281,\n",
       "         282, 283, 284, 285, 286, 287, 288, 289, 290, 291, 292, 293, 294,\n",
       "         295, 296, 297, 298, 299, 300, 301, 302, 303, 304, 305, 306, 307,\n",
       "         308, 309, 310, 311, 312, 313, 314, 315, 316, 317, 318, 319, 320,\n",
       "         323, 324, 325, 326, 327, 328, 329, 330, 331, 332, 333, 334, 335,\n",
       "         336, 338, 339, 340, 341, 342, 343, 344, 345, 346, 347, 348, 349,\n",
       "         350, 351, 352, 353, 354, 355, 356, 357, 358, 360, 361, 362, 363,\n",
       "         364, 365, 366, 367, 368, 370, 371, 372, 373, 374, 375, 376, 377,\n",
       "         378, 379, 380, 382, 383, 384, 385, 386, 387, 388, 389, 390, 391,\n",
       "         392, 393, 394, 395, 396, 397, 398, 399, 400, 401, 402, 403, 406,\n",
       "         407, 409, 410, 413, 414, 415, 416, 417, 418, 419, 421, 423, 424,\n",
       "         425, 427, 428, 429, 430, 431, 432, 434, 435, 437, 438, 439, 440,\n",
       "         441, 442, 443, 444, 445, 446, 447, 448, 449, 450, 451, 452, 453,\n",
       "         454, 455, 456, 457, 458, 459, 460, 461, 462, 463, 464, 465, 466,\n",
       "         467, 468, 469, 470, 471, 472, 473, 474, 475, 476, 477, 478, 479,\n",
       "         480, 481, 482, 483, 484, 485, 486, 487, 488, 489, 490, 491, 492,\n",
       "         493, 494, 495, 496, 497, 498, 499, 500, 501, 502, 503, 504, 505]),\n",
       "  array([  2,  10,  16,  17,  21,  22,  37,  43,  64,  84,  91,  94, 103,\n",
       "         114, 117, 124, 135, 146, 148, 151, 156, 174, 181, 191, 197, 212,\n",
       "         220, 222, 227, 228, 231, 251, 267, 274, 279, 321, 322, 337, 359,\n",
       "         369, 381, 404, 405, 408, 411, 412, 420, 422, 426, 433, 436])),\n",
       " (array([  0,   1,   2,   3,   5,   6,   7,   8,   9,  10,  11,  12,  13,\n",
       "          14,  15,  16,  17,  18,  19,  20,  21,  22,  23,  24,  25,  26,\n",
       "          27,  28,  29,  30,  31,  32,  33,  35,  36,  37,  38,  39,  40,\n",
       "          41,  42,  43,  44,  45,  46,  47,  48,  49,  50,  51,  52,  53,\n",
       "          54,  55,  56,  57,  58,  59,  60,  61,  62,  63,  64,  66,  67,\n",
       "          68,  69,  70,  71,  72,  73,  75,  76,  77,  78,  79,  80,  82,\n",
       "          83,  84,  85,  86,  88,  89,  90,  91,  92,  94,  95,  96,  97,\n",
       "          98,  99, 101, 102, 103, 104, 105, 106, 107, 108, 109, 110, 112,\n",
       "         113, 114, 115, 116, 117, 118, 119, 120, 121, 122, 123, 124, 125,\n",
       "         126, 127, 128, 129, 130, 131, 132, 133, 135, 136, 137, 138, 139,\n",
       "         140, 141, 142, 143, 144, 146, 147, 148, 149, 150, 151, 152, 153,\n",
       "         154, 155, 156, 158, 159, 161, 162, 163, 164, 165, 166, 167, 168,\n",
       "         169, 170, 171, 172, 173, 174, 176, 178, 179, 180, 181, 182, 184,\n",
       "         186, 187, 188, 189, 190, 191, 192, 193, 194, 195, 196, 197, 198,\n",
       "         199, 200, 201, 202, 203, 204, 205, 206, 207, 208, 209, 210, 211,\n",
       "         212, 213, 214, 215, 216, 217, 218, 219, 220, 221, 222, 223, 224,\n",
       "         225, 226, 227, 228, 229, 230, 231, 232, 233, 234, 235, 236, 237,\n",
       "         238, 239, 240, 241, 242, 243, 245, 246, 247, 248, 249, 251, 252,\n",
       "         253, 254, 255, 256, 257, 258, 259, 260, 261, 262, 263, 264, 265,\n",
       "         266, 267, 268, 269, 270, 271, 272, 273, 274, 275, 276, 277, 278,\n",
       "         279, 280, 281, 283, 284, 286, 287, 288, 289, 290, 291, 292, 293,\n",
       "         294, 295, 296, 297, 298, 299, 300, 302, 303, 304, 305, 306, 307,\n",
       "         308, 309, 310, 311, 312, 313, 314, 315, 316, 317, 318, 319, 320,\n",
       "         321, 322, 323, 324, 325, 327, 328, 329, 330, 331, 333, 334, 335,\n",
       "         337, 339, 340, 342, 344, 345, 346, 347, 348, 349, 350, 351, 352,\n",
       "         353, 355, 356, 357, 358, 359, 361, 362, 366, 367, 368, 369, 370,\n",
       "         371, 372, 373, 374, 376, 377, 378, 380, 381, 382, 383, 384, 386,\n",
       "         387, 388, 389, 391, 392, 393, 394, 395, 396, 397, 398, 399, 400,\n",
       "         401, 402, 403, 404, 405, 406, 407, 408, 409, 410, 411, 412, 413,\n",
       "         414, 415, 416, 417, 418, 419, 420, 422, 423, 424, 425, 426, 427,\n",
       "         428, 429, 430, 431, 433, 435, 436, 437, 438, 439, 440, 441, 442,\n",
       "         443, 444, 445, 446, 447, 448, 449, 450, 451, 452, 453, 454, 455,\n",
       "         456, 457, 458, 459, 460, 461, 462, 463, 466, 468, 469, 471, 472,\n",
       "         473, 475, 476, 480, 481, 482, 483, 484, 485, 486, 488, 489, 492,\n",
       "         493, 494, 495, 496, 497, 498, 499, 500, 501, 502, 503, 504, 505]),\n",
       "  array([  4,  34,  65,  74,  81,  87,  93, 100, 111, 134, 145, 157, 160,\n",
       "         175, 177, 183, 185, 244, 250, 282, 285, 301, 326, 332, 336, 338,\n",
       "         341, 343, 354, 360, 363, 364, 365, 375, 379, 385, 390, 421, 432,\n",
       "         434, 464, 465, 467, 470, 474, 477, 478, 479, 487, 490, 491])),\n",
       " (array([  0,   1,   2,   3,   4,   6,   7,   8,   9,  10,  11,  12,  13,\n",
       "          14,  15,  16,  17,  18,  19,  20,  21,  22,  24,  25,  26,  27,\n",
       "          28,  29,  30,  31,  32,  33,  34,  35,  36,  37,  38,  39,  40,\n",
       "          41,  42,  43,  44,  47,  48,  50,  51,  52,  53,  54,  55,  56,\n",
       "          57,  58,  59,  60,  61,  62,  63,  64,  65,  66,  67,  68,  69,\n",
       "          70,  71,  72,  73,  74,  76,  77,  79,  80,  81,  82,  83,  84,\n",
       "          85,  87,  88,  89,  90,  91,  92,  93,  94,  95,  96,  97,  98,\n",
       "          99, 100, 101, 102, 103, 106, 107, 108, 109, 110, 111, 112, 113,\n",
       "         114, 115, 116, 117, 118, 121, 122, 124, 125, 126, 127, 128, 130,\n",
       "         131, 132, 133, 134, 135, 136, 137, 138, 139, 140, 141, 142, 143,\n",
       "         144, 145, 146, 147, 148, 149, 150, 151, 152, 153, 154, 155, 156,\n",
       "         157, 159, 160, 161, 162, 163, 164, 165, 166, 167, 169, 170, 171,\n",
       "         172, 173, 174, 175, 176, 177, 178, 179, 180, 181, 183, 184, 185,\n",
       "         186, 187, 188, 190, 191, 192, 193, 194, 195, 196, 197, 198, 199,\n",
       "         200, 201, 202, 203, 204, 205, 206, 207, 208, 209, 210, 211, 212,\n",
       "         213, 214, 215, 216, 217, 218, 219, 220, 221, 222, 223, 224, 225,\n",
       "         226, 227, 228, 229, 230, 231, 233, 234, 236, 237, 238, 239, 240,\n",
       "         241, 242, 243, 244, 245, 246, 247, 248, 249, 250, 251, 252, 254,\n",
       "         255, 256, 257, 258, 259, 260, 261, 262, 263, 264, 265, 266, 267,\n",
       "         268, 270, 272, 273, 274, 275, 276, 277, 278, 279, 280, 281, 282,\n",
       "         283, 285, 286, 287, 288, 289, 290, 293, 294, 295, 296, 297, 298,\n",
       "         299, 300, 301, 302, 303, 305, 306, 307, 308, 309, 310, 311, 312,\n",
       "         313, 314, 315, 316, 317, 318, 319, 321, 322, 323, 324, 325, 326,\n",
       "         328, 329, 330, 331, 332, 334, 335, 336, 337, 338, 339, 340, 341,\n",
       "         342, 343, 344, 345, 346, 347, 348, 349, 350, 352, 354, 355, 356,\n",
       "         357, 358, 359, 360, 361, 362, 363, 364, 365, 367, 368, 369, 370,\n",
       "         371, 372, 373, 374, 375, 376, 377, 378, 379, 381, 382, 384, 385,\n",
       "         386, 387, 388, 389, 390, 391, 392, 393, 394, 395, 396, 397, 398,\n",
       "         399, 401, 402, 403, 404, 405, 406, 408, 409, 410, 411, 412, 413,\n",
       "         414, 415, 416, 417, 418, 419, 420, 421, 422, 423, 424, 425, 426,\n",
       "         427, 428, 429, 430, 431, 432, 433, 434, 435, 436, 437, 441, 442,\n",
       "         443, 445, 446, 447, 448, 450, 452, 453, 454, 457, 459, 460, 461,\n",
       "         462, 463, 464, 465, 467, 468, 470, 471, 472, 473, 474, 475, 476,\n",
       "         477, 478, 479, 480, 481, 482, 483, 484, 485, 486, 487, 488, 490,\n",
       "         491, 492, 493, 495, 496, 497, 498, 499, 500, 501, 502, 503, 504]),\n",
       "  array([  5,  23,  45,  46,  49,  75,  78,  86, 104, 105, 119, 120, 123,\n",
       "         129, 158, 168, 182, 189, 232, 235, 253, 269, 271, 284, 291, 292,\n",
       "         304, 320, 327, 333, 351, 353, 366, 380, 383, 400, 407, 438, 439,\n",
       "         440, 444, 449, 451, 455, 456, 458, 466, 469, 489, 494, 505])),\n",
       " (array([  0,   1,   2,   3,   4,   5,   6,   7,   8,   9,  10,  11,  12,\n",
       "          13,  15,  16,  17,  18,  19,  20,  21,  22,  23,  24,  25,  26,\n",
       "          29,  30,  31,  32,  33,  34,  35,  36,  37,  38,  40,  41,  43,\n",
       "          44,  45,  46,  47,  48,  49,  50,  52,  53,  54,  55,  56,  57,\n",
       "          59,  60,  61,  62,  63,  64,  65,  66,  67,  68,  69,  70,  71,\n",
       "          72,  73,  74,  75,  76,  77,  78,  79,  80,  81,  82,  83,  84,\n",
       "          85,  86,  87,  88,  89,  90,  91,  92,  93,  94,  95,  96,  97,\n",
       "          98, 100, 103, 104, 105, 106, 107, 108, 109, 110, 111, 113, 114,\n",
       "         115, 116, 117, 119, 120, 121, 122, 123, 124, 125, 126, 128, 129,\n",
       "         130, 131, 132, 133, 134, 135, 136, 137, 138, 139, 140, 141, 142,\n",
       "         143, 144, 145, 146, 147, 148, 149, 150, 151, 152, 154, 155, 156,\n",
       "         157, 158, 159, 160, 161, 162, 163, 165, 166, 167, 168, 169, 170,\n",
       "         171, 172, 173, 174, 175, 176, 177, 178, 179, 180, 181, 182, 183,\n",
       "         184, 185, 186, 187, 188, 189, 191, 193, 194, 195, 196, 197, 199,\n",
       "         200, 202, 203, 204, 205, 206, 207, 208, 209, 210, 211, 212, 213,\n",
       "         214, 215, 217, 218, 219, 220, 221, 222, 223, 225, 226, 227, 228,\n",
       "         229, 230, 231, 232, 234, 235, 236, 237, 238, 239, 240, 241, 242,\n",
       "         243, 244, 245, 247, 249, 250, 251, 253, 254, 255, 256, 257, 258,\n",
       "         259, 260, 261, 262, 264, 265, 266, 267, 268, 269, 271, 272, 274,\n",
       "         275, 276, 277, 278, 279, 280, 281, 282, 283, 284, 285, 286, 288,\n",
       "         289, 290, 291, 292, 293, 294, 295, 296, 297, 299, 300, 301, 302,\n",
       "         303, 304, 305, 306, 307, 308, 309, 310, 311, 313, 314, 315, 316,\n",
       "         317, 319, 320, 321, 322, 323, 326, 327, 328, 330, 331, 332, 333,\n",
       "         334, 335, 336, 337, 338, 339, 340, 341, 342, 343, 344, 345, 347,\n",
       "         349, 350, 351, 352, 353, 354, 355, 356, 357, 358, 359, 360, 361,\n",
       "         362, 363, 364, 365, 366, 368, 369, 370, 371, 372, 374, 375, 376,\n",
       "         377, 379, 380, 381, 382, 383, 384, 385, 386, 387, 388, 389, 390,\n",
       "         391, 392, 393, 394, 395, 396, 398, 399, 400, 401, 402, 404, 405,\n",
       "         406, 407, 408, 409, 411, 412, 413, 414, 415, 416, 417, 418, 419,\n",
       "         420, 421, 422, 423, 424, 425, 426, 428, 429, 430, 431, 432, 433,\n",
       "         434, 435, 436, 438, 439, 440, 441, 442, 444, 445, 446, 447, 448,\n",
       "         449, 451, 453, 454, 455, 456, 458, 459, 460, 461, 462, 463, 464,\n",
       "         465, 466, 467, 468, 469, 470, 471, 472, 473, 474, 475, 476, 477,\n",
       "         478, 479, 480, 481, 482, 483, 485, 486, 487, 488, 489, 490, 491,\n",
       "         492, 493, 494, 495, 496, 497, 498, 499, 501, 502, 503, 504, 505]),\n",
       "  array([ 14,  27,  28,  39,  42,  51,  58,  99, 101, 102, 112, 118, 127,\n",
       "         153, 164, 190, 192, 198, 201, 216, 224, 233, 246, 248, 252, 263,\n",
       "         270, 273, 287, 298, 312, 318, 324, 325, 329, 346, 348, 367, 373,\n",
       "         378, 397, 403, 410, 427, 437, 443, 450, 452, 457, 484, 500])),\n",
       " (array([  0,   1,   2,   3,   4,   5,   7,   8,   9,  10,  11,  13,  14,\n",
       "          15,  16,  17,  18,  19,  20,  21,  22,  23,  24,  25,  26,  27,\n",
       "          28,  29,  30,  32,  34,  36,  37,  38,  39,  40,  41,  42,  43,\n",
       "          45,  46,  47,  49,  50,  51,  52,  53,  54,  55,  56,  57,  58,\n",
       "          59,  60,  61,  62,  64,  65,  66,  67,  68,  69,  70,  71,  73,\n",
       "          74,  75,  76,  77,  78,  79,  80,  81,  82,  83,  84,  85,  86,\n",
       "          87,  88,  89,  90,  91,  92,  93,  94,  95,  96,  97,  99, 100,\n",
       "         101, 102, 103, 104, 105, 106, 107, 108, 109, 110, 111, 112, 113,\n",
       "         114, 115, 116, 117, 118, 119, 120, 121, 122, 123, 124, 125, 126,\n",
       "         127, 128, 129, 130, 131, 133, 134, 135, 136, 137, 139, 141, 142,\n",
       "         143, 144, 145, 146, 148, 149, 150, 151, 152, 153, 154, 155, 156,\n",
       "         157, 158, 160, 162, 163, 164, 165, 167, 168, 169, 170, 172, 173,\n",
       "         174, 175, 176, 177, 178, 179, 181, 182, 183, 184, 185, 186, 187,\n",
       "         188, 189, 190, 191, 192, 193, 195, 196, 197, 198, 201, 202, 203,\n",
       "         204, 205, 206, 207, 208, 209, 211, 212, 213, 214, 215, 216, 220,\n",
       "         221, 222, 223, 224, 225, 227, 228, 229, 230, 231, 232, 233, 234,\n",
       "         235, 236, 237, 240, 241, 242, 244, 246, 247, 248, 249, 250, 251,\n",
       "         252, 253, 254, 255, 256, 257, 258, 259, 260, 262, 263, 264, 265,\n",
       "         266, 267, 268, 269, 270, 271, 273, 274, 275, 276, 277, 278, 279,\n",
       "         280, 281, 282, 283, 284, 285, 286, 287, 289, 291, 292, 293, 294,\n",
       "         295, 296, 297, 298, 299, 300, 301, 302, 303, 304, 305, 306, 307,\n",
       "         311, 312, 313, 314, 315, 316, 317, 318, 319, 320, 321, 322, 323,\n",
       "         324, 325, 326, 327, 328, 329, 331, 332, 333, 334, 335, 336, 337,\n",
       "         338, 339, 340, 341, 342, 343, 345, 346, 347, 348, 349, 350, 351,\n",
       "         352, 353, 354, 356, 357, 358, 359, 360, 361, 362, 363, 364, 365,\n",
       "         366, 367, 368, 369, 370, 371, 372, 373, 375, 376, 377, 378, 379,\n",
       "         380, 381, 382, 383, 385, 386, 387, 388, 390, 391, 392, 394, 395,\n",
       "         396, 397, 398, 399, 400, 401, 402, 403, 404, 405, 406, 407, 408,\n",
       "         409, 410, 411, 412, 413, 414, 415, 416, 417, 418, 419, 420, 421,\n",
       "         422, 423, 425, 426, 427, 429, 431, 432, 433, 434, 435, 436, 437,\n",
       "         438, 439, 440, 442, 443, 444, 445, 446, 447, 448, 449, 450, 451,\n",
       "         452, 453, 454, 455, 456, 457, 458, 460, 461, 462, 463, 464, 465,\n",
       "         466, 467, 469, 470, 471, 472, 473, 474, 475, 476, 477, 478, 479,\n",
       "         480, 481, 482, 483, 484, 485, 486, 487, 488, 489, 490, 491, 492,\n",
       "         493, 494, 495, 496, 497, 498, 499, 500, 501, 502, 503, 504, 505]),\n",
       "  array([  6,  12,  31,  33,  35,  44,  48,  63,  72,  98, 132, 138, 140,\n",
       "         147, 159, 161, 166, 171, 180, 194, 199, 200, 210, 217, 218, 219,\n",
       "         226, 238, 239, 243, 245, 261, 272, 288, 290, 308, 309, 310, 330,\n",
       "         344, 355, 374, 384, 389, 393, 424, 428, 430, 441, 459, 468])),\n",
       " (array([  1,   2,   3,   4,   5,   6,   7,   8,  10,  12,  13,  14,  16,\n",
       "          17,  19,  20,  21,  22,  23,  24,  25,  26,  27,  28,  29,  30,\n",
       "          31,  32,  33,  34,  35,  36,  37,  39,  40,  42,  43,  44,  45,\n",
       "          46,  47,  48,  49,  50,  51,  52,  53,  54,  55,  56,  58,  59,\n",
       "          60,  62,  63,  64,  65,  66,  67,  69,  70,  72,  73,  74,  75,\n",
       "          76,  78,  79,  80,  81,  82,  83,  84,  85,  86,  87,  88,  90,\n",
       "          91,  92,  93,  94,  95,  96,  97,  98,  99, 100, 101, 102, 103,\n",
       "         104, 105, 106, 107, 109, 110, 111, 112, 114, 115, 116, 117, 118,\n",
       "         119, 120, 121, 122, 123, 124, 125, 126, 127, 128, 129, 130, 132,\n",
       "         133, 134, 135, 137, 138, 139, 140, 142, 144, 145, 146, 147, 148,\n",
       "         149, 150, 151, 152, 153, 154, 156, 157, 158, 159, 160, 161, 163,\n",
       "         164, 165, 166, 167, 168, 170, 171, 172, 173, 174, 175, 176, 177,\n",
       "         178, 179, 180, 181, 182, 183, 184, 185, 186, 187, 188, 189, 190,\n",
       "         191, 192, 193, 194, 195, 196, 197, 198, 199, 200, 201, 202, 203,\n",
       "         204, 205, 206, 208, 209, 210, 211, 212, 213, 215, 216, 217, 218,\n",
       "         219, 220, 222, 223, 224, 225, 226, 227, 228, 229, 230, 231, 232,\n",
       "         233, 234, 235, 237, 238, 239, 240, 241, 242, 243, 244, 245, 246,\n",
       "         247, 248, 249, 250, 251, 252, 253, 254, 255, 256, 257, 258, 259,\n",
       "         261, 262, 263, 265, 266, 267, 269, 270, 271, 272, 273, 274, 275,\n",
       "         276, 277, 278, 279, 280, 281, 282, 283, 284, 285, 286, 287, 288,\n",
       "         289, 290, 291, 292, 293, 294, 295, 297, 298, 299, 300, 301, 303,\n",
       "         304, 307, 308, 309, 310, 311, 312, 313, 314, 315, 317, 318, 319,\n",
       "         320, 321, 322, 324, 325, 326, 327, 328, 329, 330, 331, 332, 333,\n",
       "         334, 335, 336, 337, 338, 339, 340, 341, 342, 343, 344, 345, 346,\n",
       "         347, 348, 349, 351, 352, 353, 354, 355, 356, 357, 359, 360, 361,\n",
       "         362, 363, 364, 365, 366, 367, 369, 370, 371, 373, 374, 375, 378,\n",
       "         379, 380, 381, 382, 383, 384, 385, 386, 387, 388, 389, 390, 391,\n",
       "         392, 393, 394, 395, 396, 397, 398, 399, 400, 402, 403, 404, 405,\n",
       "         406, 407, 408, 409, 410, 411, 412, 413, 414, 415, 416, 417, 418,\n",
       "         419, 420, 421, 422, 423, 424, 425, 426, 427, 428, 430, 431, 432,\n",
       "         433, 434, 435, 436, 437, 438, 439, 440, 441, 442, 443, 444, 446,\n",
       "         449, 450, 451, 452, 453, 454, 455, 456, 457, 458, 459, 460, 462,\n",
       "         463, 464, 465, 466, 467, 468, 469, 470, 471, 472, 474, 475, 476,\n",
       "         477, 478, 479, 481, 482, 483, 484, 485, 486, 487, 488, 489, 490,\n",
       "         491, 492, 493, 494, 495, 496, 497, 498, 500, 501, 502, 503, 504,\n",
       "         505]),\n",
       "  array([  0,   9,  11,  15,  18,  38,  41,  57,  61,  68,  71,  77,  89,\n",
       "         108, 113, 131, 136, 141, 143, 155, 162, 169, 207, 214, 221, 236,\n",
       "         260, 264, 268, 296, 302, 305, 306, 316, 323, 350, 358, 368, 372,\n",
       "         376, 377, 401, 429, 445, 447, 448, 461, 473, 480, 499])),\n",
       " (array([  0,   2,   3,   4,   5,   6,   7,   8,   9,  10,  11,  12,  13,\n",
       "          14,  15,  16,  17,  18,  19,  20,  21,  22,  23,  25,  26,  27,\n",
       "          28,  29,  31,  33,  34,  35,  36,  37,  38,  39,  41,  42,  43,\n",
       "          44,  45,  46,  47,  48,  49,  51,  52,  53,  54,  55,  56,  57,\n",
       "          58,  59,  61,  63,  64,  65,  66,  68,  69,  70,  71,  72,  73,\n",
       "          74,  75,  76,  77,  78,  80,  81,  82,  83,  84,  85,  86,  87,\n",
       "          89,  90,  91,  93,  94,  95,  96,  97,  98,  99, 100, 101, 102,\n",
       "         103, 104, 105, 106, 108, 109, 110, 111, 112, 113, 114, 115, 116,\n",
       "         117, 118, 119, 120, 121, 123, 124, 126, 127, 128, 129, 130, 131,\n",
       "         132, 133, 134, 135, 136, 138, 139, 140, 141, 143, 144, 145, 146,\n",
       "         147, 148, 149, 150, 151, 152, 153, 154, 155, 156, 157, 158, 159,\n",
       "         160, 161, 162, 163, 164, 165, 166, 167, 168, 169, 171, 174, 175,\n",
       "         176, 177, 178, 179, 180, 181, 182, 183, 184, 185, 187, 188, 189,\n",
       "         190, 191, 192, 193, 194, 196, 197, 198, 199, 200, 201, 202, 203,\n",
       "         204, 205, 206, 207, 208, 210, 212, 214, 215, 216, 217, 218, 219,\n",
       "         220, 221, 222, 223, 224, 225, 226, 227, 228, 230, 231, 232, 233,\n",
       "         234, 235, 236, 237, 238, 239, 240, 241, 243, 244, 245, 246, 248,\n",
       "         249, 250, 251, 252, 253, 254, 256, 258, 259, 260, 261, 263, 264,\n",
       "         267, 268, 269, 270, 271, 272, 273, 274, 275, 276, 277, 278, 279,\n",
       "         280, 282, 284, 285, 286, 287, 288, 289, 290, 291, 292, 293, 294,\n",
       "         295, 296, 298, 299, 300, 301, 302, 303, 304, 305, 306, 308, 309,\n",
       "         310, 311, 312, 313, 315, 316, 317, 318, 319, 320, 321, 322, 323,\n",
       "         324, 325, 326, 327, 329, 330, 331, 332, 333, 334, 336, 337, 338,\n",
       "         339, 341, 343, 344, 345, 346, 347, 348, 349, 350, 351, 352, 353,\n",
       "         354, 355, 356, 358, 359, 360, 362, 363, 364, 365, 366, 367, 368,\n",
       "         369, 371, 372, 373, 374, 375, 376, 377, 378, 379, 380, 381, 382,\n",
       "         383, 384, 385, 386, 387, 388, 389, 390, 391, 392, 393, 394, 395,\n",
       "         396, 397, 398, 399, 400, 401, 402, 403, 404, 405, 406, 407, 408,\n",
       "         409, 410, 411, 412, 413, 414, 415, 417, 418, 419, 420, 421, 422,\n",
       "         423, 424, 425, 426, 427, 428, 429, 430, 431, 432, 433, 434, 435,\n",
       "         436, 437, 438, 439, 440, 441, 442, 443, 444, 445, 447, 448, 449,\n",
       "         450, 451, 452, 453, 454, 455, 456, 457, 458, 459, 460, 461, 462,\n",
       "         463, 464, 465, 466, 467, 468, 469, 470, 471, 472, 473, 474, 475,\n",
       "         476, 477, 478, 479, 480, 481, 482, 484, 485, 486, 487, 488, 489,\n",
       "         490, 491, 493, 494, 495, 496, 497, 498, 499, 500, 501, 502, 503,\n",
       "         505]),\n",
       "  array([  1,  24,  30,  32,  40,  50,  60,  62,  67,  79,  88,  92, 107,\n",
       "         122, 125, 137, 142, 170, 172, 173, 186, 195, 209, 211, 213, 229,\n",
       "         242, 247, 255, 257, 262, 265, 266, 281, 283, 297, 307, 314, 328,\n",
       "         335, 340, 342, 357, 361, 370, 416, 446, 483, 492, 504])),\n",
       " (array([  0,   1,   2,   3,   4,   5,   6,   7,   9,  10,  11,  12,  13,\n",
       "          14,  15,  16,  17,  18,  19,  21,  22,  23,  24,  27,  28,  29,\n",
       "          30,  31,  32,  33,  34,  35,  37,  38,  39,  40,  41,  42,  43,\n",
       "          44,  45,  46,  48,  49,  50,  51,  52,  53,  54,  56,  57,  58,\n",
       "          59,  60,  61,  62,  63,  64,  65,  67,  68,  69,  70,  71,  72,\n",
       "          73,  74,  75,  76,  77,  78,  79,  81,  82,  84,  85,  86,  87,\n",
       "          88,  89,  90,  91,  92,  93,  94,  98,  99, 100, 101, 102, 103,\n",
       "         104, 105, 106, 107, 108, 109, 110, 111, 112, 113, 114, 115, 116,\n",
       "         117, 118, 119, 120, 122, 123, 124, 125, 126, 127, 129, 131, 132,\n",
       "         133, 134, 135, 136, 137, 138, 139, 140, 141, 142, 143, 145, 146,\n",
       "         147, 148, 149, 151, 152, 153, 154, 155, 156, 157, 158, 159, 160,\n",
       "         161, 162, 163, 164, 165, 166, 167, 168, 169, 170, 171, 172, 173,\n",
       "         174, 175, 176, 177, 179, 180, 181, 182, 183, 184, 185, 186, 187,\n",
       "         188, 189, 190, 191, 192, 194, 195, 197, 198, 199, 200, 201, 202,\n",
       "         203, 207, 208, 209, 210, 211, 212, 213, 214, 215, 216, 217, 218,\n",
       "         219, 220, 221, 222, 224, 225, 226, 227, 228, 229, 230, 231, 232,\n",
       "         233, 234, 235, 236, 238, 239, 240, 242, 243, 244, 245, 246, 247,\n",
       "         248, 249, 250, 251, 252, 253, 254, 255, 256, 257, 258, 259, 260,\n",
       "         261, 262, 263, 264, 265, 266, 267, 268, 269, 270, 271, 272, 273,\n",
       "         274, 275, 278, 279, 280, 281, 282, 283, 284, 285, 286, 287, 288,\n",
       "         289, 290, 291, 292, 293, 294, 295, 296, 297, 298, 301, 302, 303,\n",
       "         304, 305, 306, 307, 308, 309, 310, 311, 312, 313, 314, 315, 316,\n",
       "         318, 319, 320, 321, 322, 323, 324, 325, 326, 327, 328, 329, 330,\n",
       "         331, 332, 333, 334, 335, 336, 337, 338, 340, 341, 342, 343, 344,\n",
       "         345, 346, 347, 348, 349, 350, 351, 353, 354, 355, 356, 357, 358,\n",
       "         359, 360, 361, 363, 364, 365, 366, 367, 368, 369, 370, 371, 372,\n",
       "         373, 374, 375, 376, 377, 378, 379, 380, 381, 383, 384, 385, 386,\n",
       "         388, 389, 390, 391, 392, 393, 395, 396, 397, 398, 399, 400, 401,\n",
       "         402, 403, 404, 405, 406, 407, 408, 410, 411, 412, 413, 414, 416,\n",
       "         418, 419, 420, 421, 422, 423, 424, 426, 427, 428, 429, 430, 431,\n",
       "         432, 433, 434, 435, 436, 437, 438, 439, 440, 441, 443, 444, 445,\n",
       "         446, 447, 448, 449, 450, 451, 452, 454, 455, 456, 457, 458, 459,\n",
       "         460, 461, 463, 464, 465, 466, 467, 468, 469, 470, 471, 473, 474,\n",
       "         475, 477, 478, 479, 480, 481, 483, 484, 485, 486, 487, 489, 490,\n",
       "         491, 492, 493, 494, 496, 497, 498, 499, 500, 501, 502, 503, 504,\n",
       "         505]),\n",
       "  array([  8,  20,  25,  26,  36,  47,  55,  66,  80,  83,  95,  96,  97,\n",
       "         121, 128, 130, 144, 150, 178, 193, 196, 204, 205, 206, 223, 237,\n",
       "         241, 276, 277, 299, 300, 317, 339, 352, 362, 382, 387, 394, 409,\n",
       "         415, 417, 425, 442, 453, 462, 472, 476, 482, 488, 495])),\n",
       " (array([  0,   1,   2,   4,   5,   6,   7,   8,   9,  10,  11,  12,  13,\n",
       "          14,  15,  16,  17,  18,  19,  20,  21,  22,  23,  24,  25,  26,\n",
       "          27,  28,  29,  30,  31,  32,  33,  34,  35,  36,  37,  38,  39,\n",
       "          40,  41,  42,  43,  44,  45,  46,  47,  48,  49,  50,  51,  53,\n",
       "          55,  57,  58,  60,  61,  62,  63,  64,  65,  66,  67,  68,  71,\n",
       "          72,  73,  74,  75,  76,  77,  78,  79,  80,  81,  82,  83,  84,\n",
       "          85,  86,  87,  88,  89,  91,  92,  93,  94,  95,  96,  97,  98,\n",
       "          99, 100, 101, 102, 103, 104, 105, 106, 107, 108, 110, 111, 112,\n",
       "         113, 114, 116, 117, 118, 119, 120, 121, 122, 123, 124, 125, 126,\n",
       "         127, 128, 129, 130, 131, 132, 133, 134, 135, 136, 137, 138, 140,\n",
       "         141, 142, 143, 144, 145, 146, 147, 148, 149, 150, 151, 153, 155,\n",
       "         156, 157, 158, 159, 160, 161, 162, 163, 164, 165, 166, 167, 168,\n",
       "         169, 170, 171, 172, 173, 174, 175, 176, 177, 178, 179, 180, 181,\n",
       "         182, 183, 185, 186, 188, 189, 190, 191, 192, 193, 194, 195, 196,\n",
       "         197, 198, 199, 200, 201, 204, 205, 206, 207, 209, 210, 211, 212,\n",
       "         213, 214, 216, 217, 218, 219, 220, 221, 222, 223, 224, 225, 226,\n",
       "         227, 228, 229, 231, 232, 233, 235, 236, 237, 238, 239, 240, 241,\n",
       "         242, 243, 244, 245, 246, 247, 248, 249, 250, 251, 252, 253, 255,\n",
       "         257, 259, 260, 261, 262, 263, 264, 265, 266, 267, 268, 269, 270,\n",
       "         271, 272, 273, 274, 275, 276, 277, 278, 279, 281, 282, 283, 284,\n",
       "         285, 287, 288, 290, 291, 292, 293, 295, 296, 297, 298, 299, 300,\n",
       "         301, 302, 304, 305, 306, 307, 308, 309, 310, 312, 313, 314, 315,\n",
       "         316, 317, 318, 320, 321, 322, 323, 324, 325, 326, 327, 328, 329,\n",
       "         330, 332, 333, 334, 335, 336, 337, 338, 339, 340, 341, 342, 343,\n",
       "         344, 346, 347, 348, 349, 350, 351, 352, 353, 354, 355, 357, 358,\n",
       "         359, 360, 361, 362, 363, 364, 365, 366, 367, 368, 369, 370, 372,\n",
       "         373, 374, 375, 376, 377, 378, 379, 380, 381, 382, 383, 384, 385,\n",
       "         386, 387, 388, 389, 390, 392, 393, 394, 396, 397, 398, 400, 401,\n",
       "         403, 404, 405, 407, 408, 409, 410, 411, 412, 413, 414, 415, 416,\n",
       "         417, 419, 420, 421, 422, 424, 425, 426, 427, 428, 429, 430, 432,\n",
       "         433, 434, 435, 436, 437, 438, 439, 440, 441, 442, 443, 444, 445,\n",
       "         446, 447, 448, 449, 450, 451, 452, 453, 454, 455, 456, 457, 458,\n",
       "         459, 460, 461, 462, 464, 465, 466, 467, 468, 469, 470, 472, 473,\n",
       "         474, 476, 477, 478, 479, 480, 481, 482, 483, 484, 487, 488, 489,\n",
       "         490, 491, 492, 493, 494, 495, 496, 498, 499, 500, 501, 502, 504,\n",
       "         505]),\n",
       "  array([  3,  52,  54,  56,  59,  69,  70,  90, 109, 115, 139, 152, 154,\n",
       "         184, 187, 202, 203, 208, 215, 230, 234, 254, 256, 258, 280, 286,\n",
       "         289, 294, 303, 311, 319, 331, 345, 356, 371, 391, 395, 399, 402,\n",
       "         406, 418, 423, 431, 463, 471, 475, 485, 486, 497, 503]))]"
      ]
     },
     "execution_count": 180,
     "metadata": {},
     "output_type": "execute_result"
    }
   ],
   "source": [
    "list(kf.split(X,y))"
   ]
  },
  {
   "cell_type": "code",
   "execution_count": 181,
   "metadata": {},
   "outputs": [
    {
     "data": {
      "text/plain": [
       "23.535438749691668"
      ]
     },
     "execution_count": 181,
     "metadata": {},
     "output_type": "execute_result"
    }
   ],
   "source": [
    "mse_scores = []\n",
    "\n",
    "for train_indices, test_indices in kf.split(X, y):\n",
    "    lr = LinearRegression()\n",
    "    X_train = X.iloc[train_indices, :]\n",
    "    y_train = y.iloc[train_indices]\n",
    "    lr.fit(X_train, y_train)\n",
    "    \n",
    "    X_test = X.iloc[test_indices, :]\n",
    "    y_test = y.iloc[test_indices]\n",
    "    y_pred = lr.predict(X_test)\n",
    "    \n",
    "    mse = metrics.mean_squared_error(y_test, y_pred)\n",
    "    mse_scores.append(mse)\n",
    "\n",
    "np.array(mse_scores).mean()"
   ]
  },
  {
   "cell_type": "code",
   "execution_count": 182,
   "metadata": {},
   "outputs": [
    {
     "data": {
      "text/plain": [
       "23.07443575894741"
      ]
     },
     "execution_count": 182,
     "metadata": {},
     "output_type": "execute_result"
    }
   ],
   "source": [
    "#cross validate across 70% of train data\n",
    "from sklearn.model_selection import cross_val_score\n",
    "\n",
    "lr = LinearRegression()\n",
    "kf = model_selection.KFold(n_splits=10, shuffle=True)\n",
    "\n",
    "#-cross_val_score(lr, X_train, y_train, cv=kf, scoring='neg_mean_squared_error')\n",
    "-cross_val_score(lr, X_train, y_train, cv=kf, scoring='neg_mean_squared_error').mean()"
   ]
  },
  {
   "cell_type": "code",
   "execution_count": 183,
   "metadata": {},
   "outputs": [
    {
     "data": {
      "text/plain": [
       "90.57174000628126"
      ]
     },
     "execution_count": 183,
     "metadata": {},
     "output_type": "execute_result"
    }
   ],
   "source": [
    "#cross validate across 30% of test data\n",
    "from sklearn.model_selection import cross_val_score\n",
    "\n",
    "lr = LinearRegression()\n",
    "kf = model_selection.KFold(n_splits=10, shuffle=True)\n",
    "\n",
    "#-cross_val_score(lr, X_test, y_test, cv=kf, scoring='neg_mean_squared_error')\n",
    "-cross_val_score(lr, X_test, y_test, cv=kf, scoring='neg_mean_squared_error').mean()"
   ]
  },
  {
   "cell_type": "markdown",
   "metadata": {},
   "source": [
    "- How well did your model perform on the training set compared to the null model? What does this result tell you about the bias and/or variance of your model?"
   ]
  },
  {
   "cell_type": "markdown",
   "metadata": {},
   "source": [
    "The linear regression model MSE wasn't very different from the null MSE which mean the model might not have as much predictive value above just guessing the mean every time.\n",
    "\n",
    "The Kfold cross validation model had a smaller avg. MSE compared to the null model MSE. It has low variance compared to the null model. \n",
    "\n"
   ]
  },
  {
   "cell_type": "markdown",
   "metadata": {},
   "source": [
    "- How well did your model perform on the test set compared to how well it performed on the training set? What does this result tell you about the bias and/or variance of your model?\n",
    "\n"
   ]
  },
  {
   "cell_type": "code",
   "execution_count": 184,
   "metadata": {},
   "outputs": [],
   "source": [
    "#There was not much of a difference. However, the test avg. MSE had even less variation compared to the training avg. MSE. "
   ]
  },
  {
   "cell_type": "markdown",
   "metadata": {},
   "source": []
  },
  {
   "cell_type": "markdown",
   "metadata": {},
   "source": [
    "- How much of a bias problem does your model appear to have? Why do you say that?"
   ]
  },
  {
   "cell_type": "markdown",
   "metadata": {},
   "source": [
    "A high bias problem. The large difference from the null MSE suggests that it is less flexible than the null model and closer to fitting a linear regression model with normalized data points. "
   ]
  },
  {
   "cell_type": "markdown",
   "metadata": {},
   "source": [
    "- How much of a variance problem does your model appear to have? Why do you say that?"
   ]
  },
  {
   "cell_type": "markdown",
   "metadata": {},
   "source": [
    "Not as much of a variance problem. However, its high bias problem will be problematic for making predictions based on new data sets. "
   ]
  },
  {
   "cell_type": "markdown",
   "metadata": {},
   "source": []
  },
  {
   "cell_type": "markdown",
   "metadata": {},
   "source": [
    "- Add or remove variables from your model to address this problem, and get its test-set MSE using ten-fold cross validation. Did your model get better or worse? By how much?"
   ]
  },
  {
   "cell_type": "code",
   "execution_count": 185,
   "metadata": {},
   "outputs": [
    {
     "data": {
      "text/plain": [
       "0.5093055437879551"
      ]
     },
     "execution_count": 185,
     "metadata": {},
     "output_type": "execute_result"
    }
   ],
   "source": [
    "#import train test split and linear regression function\n",
    "\n",
    "from sklearn.model_selection import train_test_split\n",
    "from sklearn.linear_model import LinearRegression\n",
    "\n",
    "#view features to predict MDV\n",
    "boston_df.head()\n",
    "\n",
    "#pick variable features to predict MEDV\n",
    "col_features = ['AGE','LSTAT']\n",
    "\n",
    "X_train, X_test, y_train, y_test = train_test_split(X[col_features], y, train_size=0.7, test_size=.3, random_state=8)\n",
    "\n",
    "\n",
    "lr2 = LinearRegression()\n",
    "lr2.fit(X_train,y_train)\n",
    "lr2.score(X_test, y_test)"
   ]
  },
  {
   "cell_type": "code",
   "execution_count": 186,
   "metadata": {},
   "outputs": [
    {
     "data": {
      "text/plain": [
       "38.97882399348454"
      ]
     },
     "execution_count": 186,
     "metadata": {},
     "output_type": "execute_result"
    }
   ],
   "source": [
    "#cross validate across 70% of train data\n",
    "from sklearn.model_selection import cross_val_score\n",
    "\n",
    "lr = LinearRegression()\n",
    "kf = model_selection.KFold(n_splits=10, shuffle=True)\n",
    "\n",
    "#-cross_val_score(lr, X_train, y_train, cv=kf, scoring='neg_mean_squared_error')\n",
    "-cross_val_score(lr, X_train, y_train, cv=kf, scoring='neg_mean_squared_error').mean()"
   ]
  },
  {
   "cell_type": "code",
   "execution_count": 187,
   "metadata": {},
   "outputs": [
    {
     "data": {
      "text/plain": [
       "40.904902368248784"
      ]
     },
     "execution_count": 187,
     "metadata": {},
     "output_type": "execute_result"
    }
   ],
   "source": [
    "#cross validate across 30% of test data\n",
    "from sklearn.model_selection import cross_val_score\n",
    "\n",
    "lr = LinearRegression()\n",
    "kf = model_selection.KFold(n_splits=10, shuffle=True)\n",
    "\n",
    "#-cross_val_score(lr, X_test, y_test, cv=kf, scoring='neg_mean_squared_error')\n",
    "-cross_val_score(lr, X_test, y_test, cv=kf, scoring='neg_mean_squared_error').mean()"
   ]
  },
  {
   "cell_type": "markdown",
   "metadata": {},
   "source": [
    "Changing the variables in the model added more variability to the training and test set, thereby making it more flexible for furture predictions. "
   ]
  },
  {
   "cell_type": "markdown",
   "metadata": {},
   "source": []
  },
  {
   "cell_type": "markdown",
   "metadata": {},
   "source": [
    "- **Bonus:** Find a *transformation* of one of more of your feature variables that allows you to create a model that performs better on the test set than your previous model. \n",
    "\n",
    "Possible examples:\n",
    "    - Square a column\n",
    "    - Take the square root of a column\n",
    "    - Take the logarithm of a column\n",
    "    - Multiply two columns together\n",
    "\n",
    "Tip: Look at scatterplots of MEDV against your column(s) before and after applying the transformation. The transformation should help if it makes the relationship more linear."
   ]
  },
  {
   "cell_type": "code",
   "execution_count": null,
   "metadata": {},
   "outputs": [],
   "source": []
  },
  {
   "cell_type": "markdown",
   "metadata": {},
   "source": [
    "# KNN Practice"
   ]
  },
  {
   "cell_type": "code",
   "execution_count": 188,
   "metadata": {},
   "outputs": [
    {
     "data": {
      "text/html": [
       "<div>\n",
       "<style scoped>\n",
       "    .dataframe tbody tr th:only-of-type {\n",
       "        vertical-align: middle;\n",
       "    }\n",
       "\n",
       "    .dataframe tbody tr th {\n",
       "        vertical-align: top;\n",
       "    }\n",
       "\n",
       "    .dataframe thead th {\n",
       "        text-align: right;\n",
       "    }\n",
       "</style>\n",
       "<table border=\"1\" class=\"dataframe\">\n",
       "  <thead>\n",
       "    <tr style=\"text-align: right;\">\n",
       "      <th></th>\n",
       "      <th>sepal_length</th>\n",
       "      <th>sepal_width</th>\n",
       "      <th>petal_length</th>\n",
       "      <th>petal_width</th>\n",
       "      <th>species</th>\n",
       "    </tr>\n",
       "  </thead>\n",
       "  <tbody>\n",
       "    <tr>\n",
       "      <th>0</th>\n",
       "      <td>5.1</td>\n",
       "      <td>3.5</td>\n",
       "      <td>1.4</td>\n",
       "      <td>0.2</td>\n",
       "      <td>Iris-setosa</td>\n",
       "    </tr>\n",
       "    <tr>\n",
       "      <th>1</th>\n",
       "      <td>4.9</td>\n",
       "      <td>3.0</td>\n",
       "      <td>1.4</td>\n",
       "      <td>0.2</td>\n",
       "      <td>Iris-setosa</td>\n",
       "    </tr>\n",
       "    <tr>\n",
       "      <th>2</th>\n",
       "      <td>4.7</td>\n",
       "      <td>3.2</td>\n",
       "      <td>1.3</td>\n",
       "      <td>0.2</td>\n",
       "      <td>Iris-setosa</td>\n",
       "    </tr>\n",
       "    <tr>\n",
       "      <th>3</th>\n",
       "      <td>4.6</td>\n",
       "      <td>3.1</td>\n",
       "      <td>1.5</td>\n",
       "      <td>0.2</td>\n",
       "      <td>Iris-setosa</td>\n",
       "    </tr>\n",
       "    <tr>\n",
       "      <th>4</th>\n",
       "      <td>5.0</td>\n",
       "      <td>3.6</td>\n",
       "      <td>1.4</td>\n",
       "      <td>0.2</td>\n",
       "      <td>Iris-setosa</td>\n",
       "    </tr>\n",
       "  </tbody>\n",
       "</table>\n",
       "</div>"
      ],
      "text/plain": [
       "   sepal_length  sepal_width  petal_length  petal_width      species\n",
       "0           5.1          3.5           1.4          0.2  Iris-setosa\n",
       "1           4.9          3.0           1.4          0.2  Iris-setosa\n",
       "2           4.7          3.2           1.3          0.2  Iris-setosa\n",
       "3           4.6          3.1           1.5          0.2  Iris-setosa\n",
       "4           5.0          3.6           1.4          0.2  Iris-setosa"
      ]
     },
     "execution_count": 188,
     "metadata": {},
     "output_type": "execute_result"
    }
   ],
   "source": [
    "import pandas as pd\n",
    "import matplotlib.pyplot as plt\n",
    "import matplotlib.colors\n",
    "from matplotlib.colors import ListedColormap\n",
    "\n",
    "# Read the iris data into a DataFrame\n",
    "url = 'http://archive.ics.uci.edu/ml/machine-learning-databases/iris/iris.data'\n",
    "\n",
    "col_names = ['sepal_length', 'sepal_width', 'petal_length', 'petal_width', 'species']\n",
    "iris = pd.read_csv(url, header=None, names=col_names)\n",
    "iris.head()"
   ]
  },
  {
   "cell_type": "code",
   "execution_count": 189,
   "metadata": {},
   "outputs": [],
   "source": [
    "iris.head()\n",
    "\n",
    "# Increase the default figure and font sizes for easier viewing\n",
    "plt.rcParams['figure.figsize'] = (10, 5)\n",
    "plt.rcParams['font.size'] = 20"
   ]
  },
  {
   "cell_type": "code",
   "execution_count": 190,
   "metadata": {},
   "outputs": [
    {
     "data": {
      "image/png": "[encoded data removed]",
      "text/plain": [
       "<Figure size 720x360 with 1 Axes>"
      ]
     },
     "metadata": {},
     "output_type": "display_data"
    }
   ],
   "source": [
    "# Create a custom colormap\n",
    "from matplotlib.colors import ListedColormap\n",
    "\n",
    "cmap_bold = ListedColormap(['#FF0000', '#00FF00', '#0000FF'])\n",
    "\n",
    "\n",
    "fig, ax = plt.subplots()\n",
    "for species in iris.loc[:, 'species'].unique():\n",
    "    ax.scatter(data=iris.loc[iris.loc[:, 'species'] == species, :], x='petal_length', y='petal_width', label=species)\n",
    "    ax.legend();\n",
    "\n"
   ]
  },
  {
   "cell_type": "code",
   "execution_count": null,
   "metadata": {},
   "outputs": [],
   "source": []
  },
  {
   "cell_type": "markdown",
   "metadata": {},
   "source": [
    "- Map each iris species to a number. Let's use Iris-setosa':0, 'Iris-versicolor':1, 'Iris-virginica':2 and assign the result to a column called 'species_num'."
   ]
  },
  {
   "cell_type": "code",
   "execution_count": 191,
   "metadata": {},
   "outputs": [],
   "source": [
    "iris.loc[:, 'species_num'] = iris.loc[:, 'species'].map({'Iris-setosa':0, 'Iris-versicolor':1, 'Iris-virginica':2})"
   ]
  },
  {
   "cell_type": "code",
   "execution_count": 192,
   "metadata": {},
   "outputs": [
    {
     "data": {
      "text/html": [
       "<div>\n",
       "<style scoped>\n",
       "    .dataframe tbody tr th:only-of-type {\n",
       "        vertical-align: middle;\n",
       "    }\n",
       "\n",
       "    .dataframe tbody tr th {\n",
       "        vertical-align: top;\n",
       "    }\n",
       "\n",
       "    .dataframe thead th {\n",
       "        text-align: right;\n",
       "    }\n",
       "</style>\n",
       "<table border=\"1\" class=\"dataframe\">\n",
       "  <thead>\n",
       "    <tr style=\"text-align: right;\">\n",
       "      <th></th>\n",
       "      <th>sepal_length</th>\n",
       "      <th>sepal_width</th>\n",
       "      <th>petal_length</th>\n",
       "      <th>petal_width</th>\n",
       "      <th>species</th>\n",
       "      <th>species_num</th>\n",
       "    </tr>\n",
       "  </thead>\n",
       "  <tbody>\n",
       "    <tr>\n",
       "      <th>0</th>\n",
       "      <td>5.1</td>\n",
       "      <td>3.5</td>\n",
       "      <td>1.4</td>\n",
       "      <td>0.2</td>\n",
       "      <td>Iris-setosa</td>\n",
       "      <td>0</td>\n",
       "    </tr>\n",
       "    <tr>\n",
       "      <th>1</th>\n",
       "      <td>4.9</td>\n",
       "      <td>3.0</td>\n",
       "      <td>1.4</td>\n",
       "      <td>0.2</td>\n",
       "      <td>Iris-setosa</td>\n",
       "      <td>0</td>\n",
       "    </tr>\n",
       "    <tr>\n",
       "      <th>2</th>\n",
       "      <td>4.7</td>\n",
       "      <td>3.2</td>\n",
       "      <td>1.3</td>\n",
       "      <td>0.2</td>\n",
       "      <td>Iris-setosa</td>\n",
       "      <td>0</td>\n",
       "    </tr>\n",
       "    <tr>\n",
       "      <th>3</th>\n",
       "      <td>4.6</td>\n",
       "      <td>3.1</td>\n",
       "      <td>1.5</td>\n",
       "      <td>0.2</td>\n",
       "      <td>Iris-setosa</td>\n",
       "      <td>0</td>\n",
       "    </tr>\n",
       "    <tr>\n",
       "      <th>4</th>\n",
       "      <td>5.0</td>\n",
       "      <td>3.6</td>\n",
       "      <td>1.4</td>\n",
       "      <td>0.2</td>\n",
       "      <td>Iris-setosa</td>\n",
       "      <td>0</td>\n",
       "    </tr>\n",
       "  </tbody>\n",
       "</table>\n",
       "</div>"
      ],
      "text/plain": [
       "   sepal_length  sepal_width  petal_length  petal_width      species  \\\n",
       "0           5.1          3.5           1.4          0.2  Iris-setosa   \n",
       "1           4.9          3.0           1.4          0.2  Iris-setosa   \n",
       "2           4.7          3.2           1.3          0.2  Iris-setosa   \n",
       "3           4.6          3.1           1.5          0.2  Iris-setosa   \n",
       "4           5.0          3.6           1.4          0.2  Iris-setosa   \n",
       "\n",
       "   species_num  \n",
       "0            0  \n",
       "1            0  \n",
       "2            0  \n",
       "3            0  \n",
       "4            0  "
      ]
     },
     "execution_count": 192,
     "metadata": {},
     "output_type": "execute_result"
    }
   ],
   "source": [
    "iris.head()"
   ]
  },
  {
   "cell_type": "markdown",
   "metadata": {},
   "source": [
    "- Clean Up Data and Perform Exporatory Data Analysis"
   ]
  },
  {
   "cell_type": "markdown",
   "metadata": {},
   "source": [
    "**Items to include:**\n",
    "\n",
    "- Data shape\n",
    "- Data types\n",
    "- Count of null values by column\n",
    "- Basic summary statistics\n",
    "- Number of unique values for each column\n",
    "- Plot of the distribution of each column (e.g. histogram, bar plot, or box plot) grouped by species"
   ]
  },
  {
   "cell_type": "code",
   "execution_count": 193,
   "metadata": {},
   "outputs": [
    {
     "name": "stdout",
     "output_type": "stream",
     "text": [
      "(150, 6)\n",
      "sepal_length    float64\n",
      "sepal_width     float64\n",
      "petal_length    float64\n",
      "petal_width     float64\n",
      "species          object\n",
      "species_num       int64\n",
      "dtype: object\n"
     ]
    }
   ],
   "source": [
    "#data shape\n",
    "print(iris.shape)\n",
    "#data types\n",
    "print(iris.dtypes)"
   ]
  },
  {
   "cell_type": "code",
   "execution_count": 194,
   "metadata": {},
   "outputs": [
    {
     "data": {
      "text/plain": [
       "MEDV       0\n",
       "CRIM       0\n",
       "ZN         0\n",
       "INDUS      0\n",
       "CHAS       0\n",
       "NOX        0\n",
       "RM         0\n",
       "AGE        0\n",
       "DIS        0\n",
       "RAD        0\n",
       "TAX        0\n",
       "PTRATIO    0\n",
       "B          0\n",
       "LSTAT      0\n",
       "dtype: int64"
      ]
     },
     "execution_count": 194,
     "metadata": {},
     "output_type": "execute_result"
    }
   ],
   "source": [
    "#null values\n",
    "boston_df.isnull().sum()"
   ]
  },
  {
   "cell_type": "code",
   "execution_count": 195,
   "metadata": {},
   "outputs": [
    {
     "data": {
      "text/html": [
       "<div>\n",
       "<style scoped>\n",
       "    .dataframe tbody tr th:only-of-type {\n",
       "        vertical-align: middle;\n",
       "    }\n",
       "\n",
       "    .dataframe tbody tr th {\n",
       "        vertical-align: top;\n",
       "    }\n",
       "\n",
       "    .dataframe thead th {\n",
       "        text-align: right;\n",
       "    }\n",
       "</style>\n",
       "<table border=\"1\" class=\"dataframe\">\n",
       "  <thead>\n",
       "    <tr style=\"text-align: right;\">\n",
       "      <th></th>\n",
       "      <th>sepal_length</th>\n",
       "      <th>sepal_width</th>\n",
       "      <th>petal_length</th>\n",
       "      <th>petal_width</th>\n",
       "      <th>species_num</th>\n",
       "    </tr>\n",
       "  </thead>\n",
       "  <tbody>\n",
       "    <tr>\n",
       "      <th>count</th>\n",
       "      <td>150.000000</td>\n",
       "      <td>150.000000</td>\n",
       "      <td>150.000000</td>\n",
       "      <td>150.000000</td>\n",
       "      <td>150.000000</td>\n",
       "    </tr>\n",
       "    <tr>\n",
       "      <th>mean</th>\n",
       "      <td>5.843333</td>\n",
       "      <td>3.054000</td>\n",
       "      <td>3.758667</td>\n",
       "      <td>1.198667</td>\n",
       "      <td>1.000000</td>\n",
       "    </tr>\n",
       "    <tr>\n",
       "      <th>std</th>\n",
       "      <td>0.828066</td>\n",
       "      <td>0.433594</td>\n",
       "      <td>1.764420</td>\n",
       "      <td>0.763161</td>\n",
       "      <td>0.819232</td>\n",
       "    </tr>\n",
       "    <tr>\n",
       "      <th>min</th>\n",
       "      <td>4.300000</td>\n",
       "      <td>2.000000</td>\n",
       "      <td>1.000000</td>\n",
       "      <td>0.100000</td>\n",
       "      <td>0.000000</td>\n",
       "    </tr>\n",
       "    <tr>\n",
       "      <th>25%</th>\n",
       "      <td>5.100000</td>\n",
       "      <td>2.800000</td>\n",
       "      <td>1.600000</td>\n",
       "      <td>0.300000</td>\n",
       "      <td>0.000000</td>\n",
       "    </tr>\n",
       "    <tr>\n",
       "      <th>50%</th>\n",
       "      <td>5.800000</td>\n",
       "      <td>3.000000</td>\n",
       "      <td>4.350000</td>\n",
       "      <td>1.300000</td>\n",
       "      <td>1.000000</td>\n",
       "    </tr>\n",
       "    <tr>\n",
       "      <th>75%</th>\n",
       "      <td>6.400000</td>\n",
       "      <td>3.300000</td>\n",
       "      <td>5.100000</td>\n",
       "      <td>1.800000</td>\n",
       "      <td>2.000000</td>\n",
       "    </tr>\n",
       "    <tr>\n",
       "      <th>max</th>\n",
       "      <td>7.900000</td>\n",
       "      <td>4.400000</td>\n",
       "      <td>6.900000</td>\n",
       "      <td>2.500000</td>\n",
       "      <td>2.000000</td>\n",
       "    </tr>\n",
       "  </tbody>\n",
       "</table>\n",
       "</div>"
      ],
      "text/plain": [
       "       sepal_length  sepal_width  petal_length  petal_width  species_num\n",
       "count    150.000000   150.000000    150.000000   150.000000   150.000000\n",
       "mean       5.843333     3.054000      3.758667     1.198667     1.000000\n",
       "std        0.828066     0.433594      1.764420     0.763161     0.819232\n",
       "min        4.300000     2.000000      1.000000     0.100000     0.000000\n",
       "25%        5.100000     2.800000      1.600000     0.300000     0.000000\n",
       "50%        5.800000     3.000000      4.350000     1.300000     1.000000\n",
       "75%        6.400000     3.300000      5.100000     1.800000     2.000000\n",
       "max        7.900000     4.400000      6.900000     2.500000     2.000000"
      ]
     },
     "execution_count": 195,
     "metadata": {},
     "output_type": "execute_result"
    }
   ],
   "source": [
    "#basic stats\n",
    "iris.describe()"
   ]
  },
  {
   "cell_type": "code",
   "execution_count": 196,
   "metadata": {},
   "outputs": [
    {
     "data": {
      "text/plain": [
       "sepal_length    35\n",
       "sepal_width     23\n",
       "petal_length    43\n",
       "petal_width     22\n",
       "species          3\n",
       "species_num      3\n",
       "dtype: int64"
      ]
     },
     "execution_count": 196,
     "metadata": {},
     "output_type": "execute_result"
    }
   ],
   "source": [
    "#number of unique values for each columsnm\n",
    "iris.nunique()"
   ]
  },
  {
   "cell_type": "code",
   "execution_count": 197,
   "metadata": {},
   "outputs": [
    {
     "data": {
      "image/png": "[encoded data removed]",
      "text/plain": [
       "<Figure size 1440x1440 with 4 Axes>"
      ]
     },
     "metadata": {},
     "output_type": "display_data"
    }
   ],
   "source": [
    "#distribution by species\n",
    "ax = iris.boxplot(by='species_num', figsize=(20, 20));\n"
   ]
  },
  {
   "cell_type": "code",
   "execution_count": 198,
   "metadata": {
    "scrolled": true
   },
   "outputs": [
    {
     "data": {
      "text/html": [
       "<div>\n",
       "<style scoped>\n",
       "    .dataframe tbody tr th:only-of-type {\n",
       "        vertical-align: middle;\n",
       "    }\n",
       "\n",
       "    .dataframe tbody tr th {\n",
       "        vertical-align: top;\n",
       "    }\n",
       "\n",
       "    .dataframe thead th {\n",
       "        text-align: right;\n",
       "    }\n",
       "</style>\n",
       "<table border=\"1\" class=\"dataframe\">\n",
       "  <thead>\n",
       "    <tr style=\"text-align: right;\">\n",
       "      <th></th>\n",
       "      <th>sepal_length</th>\n",
       "      <th>sepal_width</th>\n",
       "      <th>petal_length</th>\n",
       "      <th>petal_width</th>\n",
       "      <th>species</th>\n",
       "      <th>species_num</th>\n",
       "    </tr>\n",
       "  </thead>\n",
       "  <tbody>\n",
       "    <tr>\n",
       "      <th>0</th>\n",
       "      <td>5.1</td>\n",
       "      <td>3.5</td>\n",
       "      <td>1.4</td>\n",
       "      <td>0.2</td>\n",
       "      <td>Iris-setosa</td>\n",
       "      <td>0</td>\n",
       "    </tr>\n",
       "    <tr>\n",
       "      <th>1</th>\n",
       "      <td>4.9</td>\n",
       "      <td>3.0</td>\n",
       "      <td>1.4</td>\n",
       "      <td>0.2</td>\n",
       "      <td>Iris-setosa</td>\n",
       "      <td>0</td>\n",
       "    </tr>\n",
       "    <tr>\n",
       "      <th>2</th>\n",
       "      <td>4.7</td>\n",
       "      <td>3.2</td>\n",
       "      <td>1.3</td>\n",
       "      <td>0.2</td>\n",
       "      <td>Iris-setosa</td>\n",
       "      <td>0</td>\n",
       "    </tr>\n",
       "    <tr>\n",
       "      <th>3</th>\n",
       "      <td>4.6</td>\n",
       "      <td>3.1</td>\n",
       "      <td>1.5</td>\n",
       "      <td>0.2</td>\n",
       "      <td>Iris-setosa</td>\n",
       "      <td>0</td>\n",
       "    </tr>\n",
       "    <tr>\n",
       "      <th>4</th>\n",
       "      <td>5.0</td>\n",
       "      <td>3.6</td>\n",
       "      <td>1.4</td>\n",
       "      <td>0.2</td>\n",
       "      <td>Iris-setosa</td>\n",
       "      <td>0</td>\n",
       "    </tr>\n",
       "  </tbody>\n",
       "</table>\n",
       "</div>"
      ],
      "text/plain": [
       "   sepal_length  sepal_width  petal_length  petal_width      species  \\\n",
       "0           5.1          3.5           1.4          0.2  Iris-setosa   \n",
       "1           4.9          3.0           1.4          0.2  Iris-setosa   \n",
       "2           4.7          3.2           1.3          0.2  Iris-setosa   \n",
       "3           4.6          3.1           1.5          0.2  Iris-setosa   \n",
       "4           5.0          3.6           1.4          0.2  Iris-setosa   \n",
       "\n",
       "   species_num  \n",
       "0            0  \n",
       "1            0  \n",
       "2            0  \n",
       "3            0  \n",
       "4            0  "
      ]
     },
     "execution_count": 198,
     "metadata": {},
     "output_type": "execute_result"
    }
   ],
   "source": [
    "iris.head()"
   ]
  },
  {
   "cell_type": "markdown",
   "metadata": {},
   "source": [
    "Get the accuracy of a null model that simply predicts the most common species."
   ]
  },
  {
   "cell_type": "code",
   "execution_count": 209,
   "metadata": {},
   "outputs": [
    {
     "data": {
      "text/plain": [
       "0.3392857142857143"
      ]
     },
     "execution_count": 209,
     "metadata": {},
     "output_type": "execute_result"
    }
   ],
   "source": [
    "# Import estimator class and other sklearn tools\n",
    "\n",
    "from sklearn.neighbors import KNeighborsClassifier\n",
    "from sklearn.model_selection import train_test_split\n",
    "from sklearn import metrics\n",
    "\n",
    "\n",
    "# Create feature matrix (X).\n",
    "\n",
    "feature_cols = ['sepal_length', 'sepal_width', 'petal_length', 'petal_width']\n",
    "X = iris.loc[:, feature_cols]\n",
    "\n",
    "\n",
    "# Create response vector (y).\n",
    "\n",
    "y = iris.loc[:,'species_num']\n",
    "\n",
    "\n",
    "# Find the accuracy of a null model, i.e. the frequency of the most frequent class\n",
    "frequencies = y_train.value_counts().sort_values(ascending=False)\n",
    "total = frequencies.sum()\n",
    "biggest_frequency = frequencies.iloc[0]\n",
    "biggest_frequency / total"
   ]
  },
  {
   "cell_type": "markdown",
   "metadata": {},
   "source": [
    "- Develop a KNN model to predict species. Use ten-fold cross-validation to evaluate your model's accuracy on both training and test data. Remember to standardize your feature variables!"
   ]
  },
  {
   "cell_type": "code",
   "execution_count": 208,
   "metadata": {},
   "outputs": [
    {
     "name": "stdout",
     "output_type": "stream",
     "text": [
      "0.868421052631579\n",
      "0.9473684210526315\n",
      "0.9401515151515152\n",
      "0.3666666666666667\n"
     ]
    }
   ],
   "source": [
    "# Create response vector (y).\n",
    "feature_cols = ['sepal_length', 'petal_width']\n",
    "X = iris.loc[:, feature_cols]\n",
    "\n",
    "# Create response vector (y).\n",
    "\n",
    "y = iris.loc[:,'species_num']\n",
    "\n",
    "#Split X and y into training and testing sets (using `random_state` for reproducibility).\n",
    "\n",
    "X_train, X_test, y_train, y_test = train_test_split(X, y, random_state=99, shuffle=True)\n",
    "\n",
    "\n",
    "from sklearn.preprocessing import StandardScaler\n",
    "\n",
    "scaler = StandardScaler()\n",
    "X_train = scaler.fit_transform(X_train)\n",
    "X_test = scaler.transform(X_test)\n",
    "\n",
    "\n",
    "#KNN\n",
    "#Train the estimator on the training set (using K=1)\n",
    "knn = KNeighborsClassifier(n_neighbors=1)\n",
    "knn.fit(X_train, y_train)\n",
    "\n",
    "#Test the estimator on the testing set and check the accuracy.\n",
    "y_pred_class = knn.predict(X_test)\n",
    "print((metrics.accuracy_score(y_test, y_pred_class)))\n",
    "\n",
    "#Repeat for K=50.\n",
    "knn = KNeighborsClassifier(n_neighbors=30)\n",
    "knn.fit(X_train, y_train)\n",
    "y_pred_class = knn.predict(X_test)\n",
    "print((metrics.accuracy_score(y_test, y_pred_class)))\n",
    "\n",
    "\n",
    "\n",
    "\n",
    "#CROSS VALIDATION (train)\n",
    "scores = cross_val_score(knn, X_train, y_train, cv=10)\n",
    "#print(scores)\n",
    "print(np.mean(scores))\n",
    "\n",
    "\n",
    "\n",
    "#CROSS VALIDATION (test)\n",
    "scores = cross_val_score(knn, X_test, y_pred_class, cv=10)\n",
    "#print(scores)\n",
    "print(np.mean(scores))\n"
   ]
  },
  {
   "cell_type": "markdown",
   "metadata": {},
   "source": [
    "- How well did your model perform on the training set compared to the null model? What does this result tell you about the bias and/or variance of your model?"
   ]
  },
  {
   "cell_type": "markdown",
   "metadata": {},
   "source": [
    "Compared to the null model, the training set has more variance."
   ]
  },
  {
   "cell_type": "markdown",
   "metadata": {},
   "source": [
    "- How well did your model perform on the test set compared to how well it performed on the training set? What does this result tell you about the bias and/or variance of your model?"
   ]
  },
  {
   "cell_type": "markdown",
   "metadata": {},
   "source": [
    "The test model was almost exact to the null model which means it probably doesn't have much predective value. It has a high bias and won't be great for predicting new data. Compared to the training set, the test model was not as flexible."
   ]
  },
  {
   "cell_type": "markdown",
   "metadata": {},
   "source": [
    "- Does your model appear to have more of a bias problem or more of a variance problem? Why?"
   ]
  },
  {
   "cell_type": "markdown",
   "metadata": {},
   "source": [
    "More of a bias problem. It is almost exact to the null model. "
   ]
  },
  {
   "cell_type": "markdown",
   "metadata": {},
   "source": [
    "- Adjust $k$ to address this problem, and get the resulting test-set accuracy using ten-fold cross validation. Did your model get better or worse? By how much?"
   ]
  },
  {
   "cell_type": "code",
   "execution_count": 207,
   "metadata": {},
   "outputs": [
    {
     "name": "stdout",
     "output_type": "stream",
     "text": [
      "0.9210526315789473\n",
      "0.9210526315789473\n",
      "0.8803030303030303\n",
      "0.48166666666666663\n"
     ]
    }
   ],
   "source": [
    "# Create response vector (y).\n",
    "feature_cols = ['petal_length', 'sepal_width',]\n",
    "                \n",
    "X = iris.loc[:, feature_cols]\n",
    "\n",
    "# Create response vector (y).\n",
    "\n",
    "y = iris.loc[:,'species_num']\n",
    "\n",
    "#Split X and y into training and testing sets (using `random_state` for reproducibility).\n",
    "\n",
    "X_train, X_test, y_train, y_test = train_test_split(X, y, random_state=99, shuffle=True)\n",
    "\n",
    "\n",
    "from sklearn.preprocessing import StandardScaler\n",
    "\n",
    "scaler = StandardScaler()\n",
    "X_train = scaler.fit_transform(X_train)\n",
    "X_test = scaler.transform(X_test)\n",
    "\n",
    "\n",
    "#KNN\n",
    "#Train the estimator on the training set (using K=1)\n",
    "knn = KNeighborsClassifier(n_neighbors=1)\n",
    "knn.fit(X_train, y_train)\n",
    "\n",
    "#Test the estimator on the testing set and check the accuracy.\n",
    "y_pred_class = knn.predict(X_test)\n",
    "print((metrics.accuracy_score(y_test, y_pred_class)))\n",
    "\n",
    "#Repeat for K=50.\n",
    "knn = KNeighborsClassifier(n_neighbors=30)\n",
    "knn.fit(X_train, y_train)\n",
    "y_pred_class = knn.predict(X_test)\n",
    "print((metrics.accuracy_score(y_test, y_pred_class)))\n",
    "\n",
    "\n",
    "\n",
    "#CROSS VALIDATION (train)\n",
    "scores = cross_val_score(knn, X_train, y_train, cv=10)\n",
    "#print(scores)\n",
    "print(np.mean(scores))\n",
    "\n",
    "\n",
    "#CROSS VALIDATION (test)\n",
    "scores = cross_val_score(knn, X_test, y_pred_class, cv=10)\n",
    "#print(scores)\n",
    "print(np.mean(scores))\n",
    "\n",
    "\n"
   ]
  },
  {
   "cell_type": "markdown",
   "metadata": {},
   "source": [
    "Changing variables led to my test model becoming more valuable for predictions by becoming having less bias and more variance. "
   ]
  },
  {
   "cell_type": "markdown",
   "metadata": {},
   "source": [
    "- Plot your model's test-set accuracy across a range of $k$ values using ten-fold cross validation. Use a large enough range of $k$ values to provide reasonable assurance that making $k$ larger would not help.\n",
    "\n",
    "Tip: Use functions and loops to avoid writing duplicate code."
   ]
  },
  {
   "cell_type": "code",
   "execution_count": 201,
   "metadata": {},
   "outputs": [
    {
     "data": {
      "image/png": "[encoded data removed]",
      "text/plain": [
       "<Figure size 576x360 with 1 Axes>"
      ]
     },
     "metadata": {},
     "output_type": "display_data"
    },
    {
     "name": "stdout",
     "output_type": "stream",
     "text": [
      "0.9083333333333332\n"
     ]
    }
   ],
   "source": [
    "k_values = list(range(1,30,2))\n",
    "accs = []\n",
    "for k in k_values:\n",
    "    knn = KNeighborsClassifier(n_neighbors=k)\n",
    "    scores = cross_val_score(knn, X_test, y_test, cv=10)\n",
    "    accs.append(np.mean(scores))\n",
    "    \n",
    "fig, ax = plt.subplots(figsize=(8,5))\n",
    "ax.plot(k_values, accs, lw=3)\n",
    "plt.show()\n",
    "\n",
    "print(np.max(accs))"
   ]
  },
  {
   "cell_type": "markdown",
   "metadata": {},
   "source": [
    "# - **Bonus:** Find a *transformation* of one of more of your feature variables that allows you to create a model that performs better on the test set than your previous model. \n",
    "\n",
    "Possible examples:\n",
    "    - Square a column\n",
    "    - Take the square root of a column\n",
    "    - Take the logarithm of a column\n",
    "    - Multiply two columns together"
   ]
  },
  {
   "cell_type": "code",
   "execution_count": null,
   "metadata": {},
   "outputs": [],
   "source": []
  },
  {
   "cell_type": "markdown",
   "metadata": {},
   "source": [
    "## Bonus\n",
    "\n",
    "`scikit-learn` is the most popular machine learning library in Python, but there are alternative packages that have different strengths. "
   ]
  },
  {
   "cell_type": "markdown",
   "metadata": {},
   "source": [
    "### Example: Using the Statsmodels Formula"
   ]
  },
  {
   "cell_type": "code",
   "execution_count": null,
   "metadata": {},
   "outputs": [],
   "source": [
    "# First, format our data in a DataFrame\n",
    "\n",
    "df = pd.DataFrame(boston.data, columns=boston.feature_names)\n",
    "df.loc[:, 'MEDV'] = boston.target\n",
    "df.head()"
   ]
  },
  {
   "cell_type": "code",
   "execution_count": null,
   "metadata": {},
   "outputs": [],
   "source": [
    "# Set up our new statsmodel.formula handling model\n",
    "import statsmodels.formula.api as smf\n",
    "\n",
    "# You can easily swap these out to test multiple versions/different formulas\n",
    "formulas = {\n",
    "    \"case1\": \"MEDV ~ RM + LSTAT + RAD + TAX + NOX + INDUS + CRIM + ZN - 1\", # - 1 = remove intercept\n",
    "    \"case2\": \"MEDV ~ NOX + RM\",\n",
    "    \"case3\": \"MEDV ~ RAD + TAX\"\n",
    "}\n",
    "\n",
    "model = smf.ols(formula=formulas['case1'], data=df)\n",
    "result = model.fit()\n",
    "\n",
    "result.summary()"
   ]
  },
  {
   "cell_type": "markdown",
   "metadata": {},
   "source": [
    "### Bonus Challenge #1:\n",
    "\n",
    "Can you optimize your R2, selecting the best features and using either test-train split or k-folds?"
   ]
  },
  {
   "cell_type": "code",
   "execution_count": null,
   "metadata": {},
   "outputs": [],
   "source": []
  },
  {
   "cell_type": "markdown",
   "metadata": {},
   "source": [
    "### Bonus Challenge #2:\n",
    "\n",
    "Given a combination of predictors, can you find another response variable that can be accurately predicted through the exploration of different predictors in this data set?\n",
    "\n",
    "_Tip: Check out pairplots, coefficients, and Pearson scores._"
   ]
  },
  {
   "cell_type": "code",
   "execution_count": null,
   "metadata": {},
   "outputs": [],
   "source": [
    "# Check out variable relations\n",
    "import seaborn as sns\n",
    "\n",
    "sns.pairplot(X);"
   ]
  },
  {
   "cell_type": "code",
   "execution_count": null,
   "metadata": {},
   "outputs": [],
   "source": [
    "# Check out Pearson scores\n"
   ]
  },
  {
   "cell_type": "markdown",
   "metadata": {},
   "source": [
    "### Demo: Patsy"
   ]
  },
  {
   "cell_type": "code",
   "execution_count": null,
   "metadata": {},
   "outputs": [],
   "source": [
    "import patsy\n",
    "\n",
    "# Add response to the core DataFrame\n",
    "df.loc[:, 'MEDV'] = y"
   ]
  },
  {
   "cell_type": "code",
   "execution_count": null,
   "metadata": {},
   "outputs": [],
   "source": [
    "from sklearn.model_selection import train_test_split #If you didn't import it earlier, do so now\n",
    "\n",
    "# Easily change your variable predictors without reslicing your DataFrame\n",
    "y, X = patsy.dmatrices(\"MEDV ~ AGE + RM\", data=df, return_type=\"dataframe\")\n",
    "\n",
    "X_train, X_test, y_train, y_test = train_test_split(X, y, train_size=.7)\n"
   ]
  },
  {
   "cell_type": "code",
   "execution_count": null,
   "metadata": {},
   "outputs": [],
   "source": [
    "from sklearn import metrics\n",
    "from sklearn.linear_model import LinearRegression\n",
    "\n",
    "# Rerun your model, iteratively changing your variables and train_size from the previous cell\n",
    "\n",
    "lm = LinearRegression()\n",
    "model = lm.fit(X_train, y_train)\n",
    "\n",
    "predictions = model.predict(X_test)\n",
    "print(\"R^2 Score: {}\".format(metrics.r2_score(y_test, predictions)))"
   ]
  }
 ],
 "metadata": {
  "anaconda-cloud": {},
  "kernelspec": {
   "display_name": "Python 3",
   "language": "python",
   "name": "python3"
  },
  "language_info": {
   "codemirror_mode": {
    "name": "ipython",
    "version": 3
   },
   "file_extension": ".py",
   "mimetype": "text/x-python",
   "name": "python",
   "nbconvert_exporter": "python",
   "pygments_lexer": "ipython3",
   "version": "3.6.5"
  }
 },
 "nbformat": 4,
 "nbformat_minor": 2
}
